{
 "cells": [
  {
   "cell_type": "markdown",
   "metadata": {},
   "source": [
    "# Imports & dependencies"
   ]
  },
  {
   "cell_type": "code",
   "execution_count": 88,
   "metadata": {},
   "outputs": [
    {
     "name": "stdout",
     "output_type": "stream",
     "text": [
      "['dis_bb', 'dis_bt', 'dis_tb', 'dis_tt', 'pcc_bb', 'pcc_tt', 'trans_bb', 'trans_tt']\n"
     ]
    }
   ],
   "source": [
    "import h5py\n",
    "f1 = h5py.File('all_graph.h5', 'r')\n",
    "print(list(f1.keys()))"
   ]
  },
  {
   "cell_type": "code",
   "execution_count": 89,
   "metadata": {},
   "outputs": [],
   "source": [
    "import numpy as np\n",
    "import torch"
   ]
  },
  {
   "cell_type": "code",
   "execution_count": 90,
   "metadata": {},
   "outputs": [],
   "source": [
    "with h5py.File('all_graph.h5', 'r') as hf:\n",
    "    adj0 = hf['dis_tt'][:]\n",
    "    adj1 = hf['pcc_tt'][:]\n",
    "    adj2 = hf['trans_tt'][:]\n",
    "\n",
    "    \n",
    "    \n",
    "    "
   ]
  },
  {
   "cell_type": "code",
   "execution_count": 91,
   "metadata": {},
   "outputs": [
    {
     "name": "stdout",
     "output_type": "stream",
     "text": [
      "(10, 10)\n"
     ]
    }
   ],
   "source": [
    "print(adj1[0:10, 0:10].shape)"
   ]
  },
  {
   "cell_type": "code",
   "execution_count": null,
   "metadata": {},
   "outputs": [],
   "source": []
  },
  {
   "cell_type": "code",
   "execution_count": 92,
   "metadata": {},
   "outputs": [],
   "source": [
    "torch.save(adj0, 'adj_0.pt')\n",
    "torch.save(adj1, 'adj_1.pt')\n",
    "torch.save(adj2, 'adj_2.pt')"
   ]
  },
  {
   "cell_type": "code",
   "execution_count": 93,
   "metadata": {},
   "outputs": [
    {
     "name": "stdout",
     "output_type": "stream",
     "text": [
      "(266, 266)\n"
     ]
    }
   ],
   "source": [
    "print(adj0.shape)"
   ]
  },
  {
   "cell_type": "code",
   "execution_count": 5,
   "metadata": {},
   "outputs": [
    {
     "name": "stdout",
     "output_type": "stream",
     "text": [
      "[ 88  73  22  18   9  65  18   7  69 261   9  24  48  10  32  13  25  28\n",
      "  33  46  25   6  11  61  17   5   9  35   6   7   4  23  16   3  41  34\n",
      "   9  13  32   0  31  14   8  45   5   9  33   9  55   7   6   5  22   7\n",
      "  12  11  22  10  18   4  23  20  55  33  18  50   9  21  14   7  11  17\n",
      "  17   2  18  14   4  12   6   8   4   8  10  36  17  24  38  36   9   3\n",
      "   2  32  18  12  18  31  33   6  10  32   6  11  14   9  18   9   2  33\n",
      "  22  47  19  18  22  15  18  20  44   8   8  13  12   8   5  22   3  43\n",
      "  15  12   5   9  33   0  92  16   0  28  18   4  10  89  59   5  23  21\n",
      "  56  28  59  19  72   2  24   0  21  25  24  15   4  19   9  15  20  86\n",
      "   7  79   4  18  26  23  19  10   0   1   1  14  26  35  20   7  57  17\n",
      "   4   5   4   3   7   7   4   7   3   8  10  17   5   0  15  41  11  82\n",
      "   3  34  13   5  22  13  10  11  30   6   7   0   6   3   4   2   1  13\n",
      "   3  16   8   1   7  11   5  27  18   8  19  10  11   7   3  25   1   5\n",
      "   3  24  24  13  17   7   7  18   0   8   1   2   7   2   5   0   2   5\n",
      "  11  38  15  58  44   5   6   2   3  11   0  21  38   3]\n"
     ]
    }
   ],
   "source": [
    "print(data[0,:])"
   ]
  },
  {
   "cell_type": "code",
   "execution_count": 55,
   "metadata": {},
   "outputs": [],
   "source": [
    "# Reading all_grpahs gives the same results in the adjacency matrices of the taxi\n",
    "# what is meant by trans_tt, pcc_tt, and dis_tt????\n",
    "# Those are taxt-taxt adjacencey matrices, but what do they mean exactly?"
   ]
  },
  {
   "cell_type": "code",
   "execution_count": 82,
   "metadata": {},
   "outputs": [
    {
     "name": "stdout",
     "output_type": "stream",
     "text": [
      "182.0\n",
      "216\n"
     ]
    }
   ],
   "source": [
    "print(4368/24)\n",
    "print(24*9)"
   ]
  },
  {
   "cell_type": "code",
   "execution_count": null,
   "metadata": {},
   "outputs": [],
   "source": []
  },
  {
   "cell_type": "code",
   "execution_count": null,
   "metadata": {},
   "outputs": [],
   "source": []
  },
  {
   "cell_type": "code",
   "execution_count": 75,
   "metadata": {},
   "outputs": [],
   "source": [
    "\n",
    "import pandas as pd\n",
    "import h5py\n",
    "\n",
    "#h5 file path\n",
    "filename = 'taxi_data.h5'\n",
    "\n",
    "#read h5 file\n",
    "f = h5py.File(filename, 'r')\n",
    "\n",
    "# #print the first unkown key in the h5 file\n",
    "# print(dataset.keys())\n",
    "\n",
    "# #print the keys inside the first unkown key\n",
    "# df = dataset['df']\n",
    "# print(df.keys()) #prints sub list keys such as axis0 and axis1\n",
    "\n",
    "# #print the attributes of keys such as axis0 inside the first unkown key\n",
    "# print(\"axis0 data: {}\".format(df['axis0']))\n",
    "# print(\"axis0 data attributes: {}\".format(list(df['axis0'].attrs)))"
   ]
  },
  {
   "cell_type": "code",
   "execution_count": 81,
   "metadata": {},
   "outputs": [],
   "source": [
    "with h5py.File('taxi_data.h5', 'r') as hf:\n",
    "    data0 = hf['taxi_drop'][:]\n",
    "    data1 = hf['taxi_pick'][:]\n",
    "#     data2 = hf['trans_tt'][:]\n"
   ]
  },
  {
   "cell_type": "code",
   "execution_count": 82,
   "metadata": {},
   "outputs": [],
   "source": [
    "torch.save(data0, 'data0.pt')\n",
    "torch.save(data1, 'data1.pt')"
   ]
  },
  {
   "cell_type": "code",
   "execution_count": 87,
   "metadata": {},
   "outputs": [
    {
     "name": "stdout",
     "output_type": "stream",
     "text": [
      "(4368, 266)\n",
      "[107  79  21  14   3  76   5  11  69 167   9  54 128  28  56  37  39  75\n",
      "  33  95 129  48  12  56  41  50   3  66   9  26   7  65  27  24  57 109\n",
      "  14  27  35   5  83  35  33  14  32   8  44  28  44  46   9  15  36  33\n",
      "  20  54  26  19  28   1  46  25 155  24  26  91   8  37   6  22  32  28\n",
      "  18   8  27  16  15   9  18   7   9  18  35  27   7  52  43  11  35  18\n",
      "   2 105  12  53  13  13  83  18   5  84  12  15  15  22  12  17  15  74\n",
      "  53  14  34  33  58  38  19  29  61   7  13  28  13  28   6  25  17 135\n",
      "  54  17  10  11  92   0  89  29   7  39  13   4  13 199 126  12  22  25\n",
      "  41  79  30  52  49   1   5   3  36   8  23  29   1  97   5  26  49 233\n",
      "  10 224   7  38  20  92   8  51   0   6   6  37  51  29  25   7  32  33\n",
      "   8   5  15   1   3   3   3  18  13   5   7   7   3   5  15  79  13  36\n",
      "   2  16   8   1   5  12  31   4  48   3   2   0   1   2   1   4  11   1\n",
      "   1  19   2   2   2   9   3  13  18   6  10  10  15  16   3  18   3   1\n",
      "   0  10   7  10   8   4   6  18   0  10   1   3   2   1   1  30   4   6\n",
      "   4  20   8  28  19   4   1   4   0  12   4   3  23   0]\n",
      "No. of taxis 552\n"
     ]
    }
   ],
   "source": [
    "print(data0.shape)\n",
    "print(data1[0,:])\n",
    "\n",
    "\n",
    "# print(np.sum(data0[0,:]))\n",
    "# print(np.sum(data0[4000,:]))\n",
    "\n",
    "\n",
    "print(\"No. of taxis\", np.sum(data1[0,0:10]))\n"
   ]
  },
  {
   "cell_type": "code",
   "execution_count": 14,
   "metadata": {},
   "outputs": [
    {
     "name": "stdout",
     "output_type": "stream",
     "text": [
      "['taxi_drop', 'taxi_pick']\n"
     ]
    }
   ],
   "source": [
    "print(list(f.keys()))"
   ]
  },
  {
   "cell_type": "code",
   "execution_count": 15,
   "metadata": {},
   "outputs": [
    {
     "name": "stdout",
     "output_type": "stream",
     "text": [
      "<HDF5 dataset \"taxi_drop\": shape (4368, 266), type \"<i8\">\n"
     ]
    }
   ],
   "source": [
    "dset = f['taxi_drop']\n",
    "print(dset)"
   ]
  },
  {
   "cell_type": "code",
   "execution_count": 16,
   "metadata": {},
   "outputs": [],
   "source": [
    "# import pandas as pd\n",
    "# import sys\n",
    "# fpath = sys.argv[1]\n",
    "# if len(sys.argv)>2:\n",
    "#     key = sys.argv[2]\n",
    "#     df = pd.read_hdf(fpath, key=key)\n",
    "# else:\n",
    "#     df = pd.read_hdf(fpath)\n",
    "\n",
    "# df.to_csv(sys.stdout, index=False)"
   ]
  },
  {
   "cell_type": "code",
   "execution_count": 71,
   "metadata": {},
   "outputs": [
    {
     "data": {
      "text/plain": [
       "16.42105263157895"
      ]
     },
     "execution_count": 71,
     "metadata": {},
     "output_type": "execute_result"
    }
   ],
   "source": [
    "4368/ 266"
   ]
  },
  {
   "cell_type": "code",
   "execution_count": 76,
   "metadata": {},
   "outputs": [
    {
     "data": {
      "text/plain": [
       "1092.0"
      ]
     },
     "execution_count": 76,
     "metadata": {},
     "output_type": "execute_result"
    }
   ],
   "source": [
    "4368/4"
   ]
  },
  {
   "cell_type": "code",
   "execution_count": null,
   "metadata": {},
   "outputs": [],
   "source": [
    "43"
   ]
  }
 ],
 "metadata": {
  "kernelspec": {
   "display_name": "Python 3",
   "language": "python",
   "name": "python3"
  },
  "language_info": {
   "codemirror_mode": {
    "name": "ipython",
    "version": 3
   },
   "file_extension": ".py",
   "mimetype": "text/x-python",
   "name": "python",
   "nbconvert_exporter": "python",
   "pygments_lexer": "ipython3",
   "version": "3.7.6"
  }
 },
 "nbformat": 4,
 "nbformat_minor": 4
}
