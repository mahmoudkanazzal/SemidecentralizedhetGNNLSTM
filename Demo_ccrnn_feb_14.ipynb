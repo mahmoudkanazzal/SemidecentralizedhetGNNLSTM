{
 "cells": [
  {
   "cell_type": "markdown",
   "metadata": {},
   "source": [
    "# Imports"
   ]
  },
  {
   "cell_type": "code",
   "execution_count": 1,
   "metadata": {},
   "outputs": [],
   "source": [
    "import json,os,shutil,yaml,torch\n",
    "import torch.nn as nn\n",
    "from models import create_model\n",
    "from utils.util import get_optimizer, get_loss, get_scheduler\n",
    "from utils.data_container import get_data_loader\n",
    "from utils.preprocess import preprocessing_for_metric\n",
    "from utils.train import train_model, test_model2"
   ]
  },
  {
   "cell_type": "code",
   "execution_count": 2,
   "metadata": {},
   "outputs": [],
   "source": [
    "def train(conf, data_category):\n",
    "    print(json.dumps(conf, indent=4))\n",
    "\n",
    "    os.environ[\"CUDA_VISIBLE_DEVICES\"] = str(conf['device'])\n",
    "    device = torch.device(0)\n",
    "\n",
    "    model_name = conf['model']['name']\n",
    "    optimizer_name = conf['optimizer']['name']\n",
    "    data_set = conf['data']['dataset']\n",
    "    scheduler_name = conf['scheduler']['name']\n",
    "    loss = get_loss(**conf['loss'])\n",
    "#     print(\"aaaa\", device)\n",
    "\n",
    "    loss.to(device)\n",
    "\n",
    "    support = preprocessing_for_metric(data_category=data_category, dataset=conf['data']['dataset'],\n",
    "                                           Normal_Method=conf['data']['Normal_Method'], _len=conf['data']['_len'], **conf['preprocess'])\n",
    "    model, trainer = create_model(model_name,\n",
    "                                  loss,\n",
    "                                  conf['model'][model_name],\n",
    "                                  data_category,\n",
    "                                  device,\n",
    "                                  support)\n",
    "\n",
    "    optimizer = get_optimizer(optimizer_name, model.parameters(), conf['optimizer'][optimizer_name]['lr'])\n",
    "    scheduler = get_scheduler(scheduler_name, optimizer, **conf['scheduler'][scheduler_name])\n",
    "    if torch.cuda.device_count() > 1:\n",
    "        print(\"use \", torch.cuda.device_count(), \"GPUS\")\n",
    "        model = nn.DataParallel(model)\n",
    "    else:\n",
    "        model.to(device)\n",
    "\n",
    "    save_folder = os.path.join('save', conf['name'], f'{data_set}_{\"\".join(data_category)}', conf['tag'])\n",
    "    run_folder = os.path.join('run', conf['name'], f'{data_set}_{\"\".join(data_category)}', conf['tag'])\n",
    "\n",
    "    shutil.rmtree(save_folder, ignore_errors=True)\n",
    "    os.makedirs(save_folder)\n",
    "    shutil.rmtree(run_folder, ignore_errors=True)\n",
    "    os.makedirs(run_folder)\n",
    "\n",
    "    with open(os.path.join(save_folder, 'config.yaml'), 'w+') as _f:\n",
    "        yaml.safe_dump(conf, _f)\n",
    "\n",
    "    data_loader, normal = get_data_loader(**conf['data'], data_category=data_category, device=device,\n",
    "                                          model_name=model_name)\n",
    "\n",
    "\n",
    "    train_model(model=model,\n",
    "                       dataloaders=data_loader,\n",
    "                       trainer=trainer,\n",
    "                       optimizer=optimizer,\n",
    "                       normal=normal,\n",
    "                       scheduler=scheduler,\n",
    "                       folder=save_folder,\n",
    "                       tensorboard_folder=run_folder,\n",
    "                       device=device,\n",
    "                       **conf['train'])\n",
    "    test_model2(folder=save_folder,\n",
    "                      trainer=trainer,\n",
    "                      model=model,\n",
    "                      normal=normal,\n",
    "                      dataloaders=data_loader,\n",
    "                      device=device)\n"
   ]
  },
  {
   "cell_type": "code",
   "execution_count": 3,
   "metadata": {},
   "outputs": [],
   "source": [
    "# print(conf['taxi'])"
   ]
  },
  {
   "cell_type": "code",
   "execution_count": 4,
   "metadata": {},
   "outputs": [],
   "source": [
    "con = 'evoconv2-config'\n",
    "data = ['taxi']\n",
    "with open(os.path.join('config', f'{con}.yaml')) as f:\n",
    "    conf = yaml.safe_load(f)\n",
    "# train(conf, data)"
   ]
  },
  {
   "cell_type": "code",
   "execution_count": 5,
   "metadata": {},
   "outputs": [
    {
     "name": "stdout",
     "output_type": "stream",
     "text": [
      "std: 37.78643496676519 mean: 26.451628298080365\n",
      "nodevec1 : torch.Size([266, 50])\n",
      "nodevec2 : torch.Size([50, 266])\n",
      "w1 : torch.Size([50, 50])\n",
      "w2 : torch.Size([50, 50])\n",
      "b1 : torch.Size([50])\n",
      "b2 : torch.Size([50])\n",
      "encoder.0.ru_gate_g_conv.graphconv.0.out.weight : torch.Size([50, 108])\n",
      "encoder.0.ru_gate_g_conv.graphconv.0.out.bias : torch.Size([50])\n",
      "encoder.0.ru_gate_g_conv.graphconv.1.out.weight : torch.Size([50, 200])\n",
      "encoder.0.ru_gate_g_conv.graphconv.1.out.bias : torch.Size([50])\n",
      "encoder.0.ru_gate_g_conv.graphconv.2.out.weight : torch.Size([50, 200])\n",
      "encoder.0.ru_gate_g_conv.graphconv.2.out.bias : torch.Size([50])\n",
      "encoder.0.ru_gate_g_conv.attlinear.weight : torch.Size([1, 13300])\n",
      "encoder.0.ru_gate_g_conv.attlinear.bias : torch.Size([1])\n",
      "encoder.0.candidate_g_conv.graphconv.0.out.weight : torch.Size([25, 108])\n",
      "encoder.0.candidate_g_conv.graphconv.0.out.bias : torch.Size([25])\n",
      "encoder.0.candidate_g_conv.graphconv.1.out.weight : torch.Size([25, 100])\n",
      "encoder.0.candidate_g_conv.graphconv.1.out.bias : torch.Size([25])\n",
      "encoder.0.candidate_g_conv.graphconv.2.out.weight : torch.Size([25, 100])\n",
      "encoder.0.candidate_g_conv.graphconv.2.out.bias : torch.Size([25])\n",
      "encoder.0.candidate_g_conv.attlinear.weight : torch.Size([1, 6650])\n",
      "encoder.0.candidate_g_conv.attlinear.bias : torch.Size([1])\n",
      "decoder.0.ru_gate_g_conv.graphconv.0.out.weight : torch.Size([50, 108])\n",
      "decoder.0.ru_gate_g_conv.graphconv.0.out.bias : torch.Size([50])\n",
      "decoder.0.ru_gate_g_conv.graphconv.1.out.weight : torch.Size([50, 200])\n",
      "decoder.0.ru_gate_g_conv.graphconv.1.out.bias : torch.Size([50])\n",
      "decoder.0.ru_gate_g_conv.graphconv.2.out.weight : torch.Size([50, 200])\n",
      "decoder.0.ru_gate_g_conv.graphconv.2.out.bias : torch.Size([50])\n",
      "decoder.0.ru_gate_g_conv.attlinear.weight : torch.Size([1, 13300])\n",
      "decoder.0.ru_gate_g_conv.attlinear.bias : torch.Size([1])\n",
      "decoder.0.candidate_g_conv.graphconv.0.out.weight : torch.Size([25, 108])\n",
      "decoder.0.candidate_g_conv.graphconv.0.out.bias : torch.Size([25])\n",
      "decoder.0.candidate_g_conv.graphconv.1.out.weight : torch.Size([25, 100])\n",
      "decoder.0.candidate_g_conv.graphconv.1.out.bias : torch.Size([25])\n",
      "decoder.0.candidate_g_conv.graphconv.2.out.weight : torch.Size([25, 100])\n",
      "decoder.0.candidate_g_conv.graphconv.2.out.bias : torch.Size([25])\n",
      "decoder.0.candidate_g_conv.attlinear.weight : torch.Size([1, 6650])\n",
      "decoder.0.candidate_g_conv.attlinear.bias : torch.Size([1])\n",
      "decoder.out.weight : torch.Size([2, 25])\n",
      "decoder.out.bias : torch.Size([2])\n",
      "\n",
      "std: 37.78643496676519 mean: 26.451628298080365\n"
     ]
    }
   ],
   "source": [
    "# conf\n",
    "data_category=['taxi']\n",
    "\n",
    "os.environ[\"CUDA_VISIBLE_DEVICES\"] = str(conf['device'])\n",
    "device = torch.device(0)\n",
    "\n",
    "model_name = conf['model']['name']\n",
    "optimizer_name = conf['optimizer']['name']\n",
    "data_set = conf['data']['dataset']\n",
    "scheduler_name = conf['scheduler']['name']\n",
    "loss = get_loss(**conf['loss'])\n",
    "\n",
    "loss.to(device)\n",
    "\n",
    "\n",
    "support = preprocessing_for_metric(data_category=data_category, dataset=conf['data']['dataset'],\n",
    "                                       Normal_Method=conf['data']['Normal_Method'], _len=conf['data']['_len'], **conf['preprocess'])\n",
    "model, trainer = create_model(model_name,\n",
    "                              loss,\n",
    "                              conf['model'][model_name],\n",
    "                              data_category,\n",
    "                              device,\n",
    "                              support)\n",
    "\n",
    "optimizer = get_optimizer(optimizer_name, model.parameters(), conf['optimizer'][optimizer_name]['lr'])\n",
    "scheduler = get_scheduler(scheduler_name, optimizer, **conf['scheduler'][scheduler_name])\n",
    "if torch.cuda.device_count() > 1:\n",
    "    print(\"use \", torch.cuda.device_count(), \"GPUS\")\n",
    "    model = nn.DataParallel(model)\n",
    "else:\n",
    "    model.to(device)\n",
    "\n",
    "save_folder = os.path.join('save', conf['name'], f'{data_set}_{\"\".join(data_category)}', conf['tag'])\n",
    "run_folder = os.path.join('run', conf['name'], f'{data_set}_{\"\".join(data_category)}', conf['tag'])\n",
    "\n",
    "shutil.rmtree(save_folder, ignore_errors=True)\n",
    "os.makedirs(save_folder)\n",
    "shutil.rmtree(run_folder, ignore_errors=True)\n",
    "os.makedirs(run_folder)\n",
    "\n",
    "with open(os.path.join(save_folder, 'config.yaml'), 'w+') as _f:\n",
    "    yaml.safe_dump(conf, _f)\n",
    "\n",
    "data_loader, normal = get_data_loader(**conf['data'], data_category=data_category, device=device,\n",
    "                                      model_name=model_name)\n",
    "\n",
    "\n",
    "\n",
    "\n"
   ]
  },
  {
   "cell_type": "code",
   "execution_count": 6,
   "metadata": {},
   "outputs": [],
   "source": [
    "# print(data_loader)"
   ]
  },
  {
   "cell_type": "code",
   "execution_count": 7,
   "metadata": {},
   "outputs": [],
   "source": [
    "# print(data_loader)"
   ]
  },
  {
   "cell_type": "code",
   "execution_count": 8,
   "metadata": {},
   "outputs": [
    {
     "name": "stdout",
     "output_type": "stream",
     "text": [
      "path does not exist\n",
      "EvoNN2(\n",
      "  (encoder): DCRNNEncoder(\n",
      "    (0): DCGRUCell(\n",
      "      (ru_gate_g_conv): EvolutionCell(\n",
      "        (perceptron): ModuleList()\n",
      "        (graphconv): ModuleList(\n",
      "          (0): GraphConv_(\n",
      "            (out): Linear(in_features=108, out_features=50, bias=True)\n",
      "          )\n",
      "          (1): GraphConv_(\n",
      "            (out): Linear(in_features=200, out_features=50, bias=True)\n",
      "          )\n",
      "          (2): GraphConv_(\n",
      "            (out): Linear(in_features=200, out_features=50, bias=True)\n",
      "          )\n",
      "        )\n",
      "        (attlinear): Linear(in_features=13300, out_features=1, bias=True)\n",
      "      )\n",
      "      (candidate_g_conv): EvolutionCell(\n",
      "        (perceptron): ModuleList()\n",
      "        (graphconv): ModuleList(\n",
      "          (0): GraphConv_(\n",
      "            (out): Linear(in_features=108, out_features=25, bias=True)\n",
      "          )\n",
      "          (1): GraphConv_(\n",
      "            (out): Linear(in_features=100, out_features=25, bias=True)\n",
      "          )\n",
      "          (2): GraphConv_(\n",
      "            (out): Linear(in_features=100, out_features=25, bias=True)\n",
      "          )\n",
      "        )\n",
      "        (attlinear): Linear(in_features=6650, out_features=1, bias=True)\n",
      "      )\n",
      "    )\n",
      "  )\n",
      "  (decoder): DCRNNDecoder(\n",
      "    (0): DCGRUCell(\n",
      "      (ru_gate_g_conv): EvolutionCell(\n",
      "        (perceptron): ModuleList()\n",
      "        (graphconv): ModuleList(\n",
      "          (0): GraphConv_(\n",
      "            (out): Linear(in_features=108, out_features=50, bias=True)\n",
      "          )\n",
      "          (1): GraphConv_(\n",
      "            (out): Linear(in_features=200, out_features=50, bias=True)\n",
      "          )\n",
      "          (2): GraphConv_(\n",
      "            (out): Linear(in_features=200, out_features=50, bias=True)\n",
      "          )\n",
      "        )\n",
      "        (attlinear): Linear(in_features=13300, out_features=1, bias=True)\n",
      "      )\n",
      "      (candidate_g_conv): EvolutionCell(\n",
      "        (perceptron): ModuleList()\n",
      "        (graphconv): ModuleList(\n",
      "          (0): GraphConv_(\n",
      "            (out): Linear(in_features=108, out_features=25, bias=True)\n",
      "          )\n",
      "          (1): GraphConv_(\n",
      "            (out): Linear(in_features=100, out_features=25, bias=True)\n",
      "          )\n",
      "          (2): GraphConv_(\n",
      "            (out): Linear(in_features=100, out_features=25, bias=True)\n",
      "          )\n",
      "        )\n",
      "        (attlinear): Linear(in_features=6650, out_features=1, bias=True)\n",
      "      )\n",
      "    )\n",
      "    (out): Linear(in_features=25, out_features=2, bias=True)\n",
      "  )\n",
      ")\n",
      "Trainable parameters: 138306.\n"
     ]
    },
    {
     "name": "stderr",
     "output_type": "stream",
     "text": [
      "train epoch:   0, train loss: 32.1036: : 94it [00:25,  3.66it/s]\n",
      "validate epoch:   0, validate loss: 41.6438: : 21it [00:01, 17.55it/s]\n"
     ]
    },
    {
     "name": "stdout",
     "output_type": "stream",
     "text": [
      "Better model at epoch 0 recorded.\n"
     ]
    },
    {
     "name": "stderr",
     "output_type": "stream",
     "text": [
      "test  epoch:   0, test  loss: 41.5838: : 21it [00:01, 16.78it/s]\n",
      "train epoch:   1, train loss: 25.2841: : 94it [00:25,  3.71it/s]\n",
      "validate epoch:   1, validate loss: 32.249: : 21it [00:01, 15.06it/s] \n"
     ]
    },
    {
     "name": "stdout",
     "output_type": "stream",
     "text": [
      "Better model at epoch 1 recorded.\n"
     ]
    },
    {
     "name": "stderr",
     "output_type": "stream",
     "text": [
      "test  epoch:   1, test  loss: 31.6402: : 21it [00:01, 15.79it/s]\n",
      "train epoch:   2, train loss: 18.2249: : 94it [00:25,  3.70it/s]\n",
      "validate epoch:   2, validate loss: 25.5824: : 21it [00:01, 15.84it/s]\n"
     ]
    },
    {
     "name": "stdout",
     "output_type": "stream",
     "text": [
      "Better model at epoch 2 recorded.\n"
     ]
    },
    {
     "name": "stderr",
     "output_type": "stream",
     "text": [
      "test  epoch:   2, test  loss: 25.2444: : 21it [00:01, 15.84it/s]\n"
     ]
    }
   ],
   "source": [
    "train_model(model=model,\n",
    "                   dataloaders=data_loader,\n",
    "                   trainer=trainer,\n",
    "                   optimizer=optimizer,\n",
    "                   normal=normal,\n",
    "                   scheduler=scheduler,\n",
    "                   folder=save_folder,\n",
    "                   tensorboard_folder=run_folder,\n",
    "                   device=device,\n",
    "                   **conf['train'])"
   ]
  },
  {
   "cell_type": "code",
   "execution_count": 11,
   "metadata": {},
   "outputs": [],
   "source": [
    "import time\n"
   ]
  },
  {
   "cell_type": "code",
   "execution_count": 12,
   "metadata": {},
   "outputs": [
    {
     "name": "stderr",
     "output_type": "stream",
     "text": [
      "21it [00:01, 18.78it/s]\n"
     ]
    },
    {
     "name": "stdout",
     "output_type": "stream",
     "text": [
      "test results:\n",
      "{\n",
      "    \"MAE\": {\n",
      "        \"horizon-0\": 9.632831283164034,\n",
      "        \"horizon-1\": 9.789632721637865,\n",
      "        \"horizon-2\": 10.995114162625248,\n",
      "        \"horizon-3\": 12.235286964669976,\n",
      "        \"horizon-4\": 13.377276435658844,\n",
      "        \"horizon-5\": 14.445037475040397,\n",
      "        \"horizon-6\": 15.418040851104077,\n",
      "        \"horizon-7\": 16.306145775239127,\n",
      "        \"horizon-8\": 17.06977013195491,\n",
      "        \"horizon-9\": 17.700747273507872,\n",
      "        \"horizon-10\": 18.242606378314903,\n",
      "        \"horizon-11\": 18.808296508983634\n",
      "    },\n",
      "    \"RMSE\": {\n",
      "        \"horizon-0\": 20.017762174973317,\n",
      "        \"horizon-1\": 19.380202841464886,\n",
      "        \"horizon-2\": 20.521134882471515,\n",
      "        \"horizon-3\": 21.937390609844062,\n",
      "        \"horizon-4\": 23.400871453015505,\n",
      "        \"horizon-5\": 24.8240370742869,\n",
      "        \"horizon-6\": 26.147470944666885,\n",
      "        \"horizon-7\": 27.291256582664985,\n",
      "        \"horizon-8\": 28.184887394896784,\n",
      "        \"horizon-9\": 28.847723696862438,\n",
      "        \"horizon-10\": 29.41562778636512,\n",
      "        \"horizon-11\": 30.040412374699414\n",
      "    },\n",
      "    \"mape\": 0.38378146290779114,\n",
      "    \"loss\": 25.273981977655875,\n",
      "    \"mae\": 14.501733289615258\n",
      "}\n",
      "--- 2.289961814880371 seconds ---\n"
     ]
    }
   ],
   "source": [
    "start_time = time.time()\n",
    "test_model2(folder=save_folder,\n",
    "                  trainer=trainer,\n",
    "                  model=model,\n",
    "                  normal=normal,\n",
    "                  dataloaders=data_loader,\n",
    "                  device=device)\n",
    "print(\"--- %s seconds ---\" % (time.time() - start_time))\n"
   ]
  },
  {
   "cell_type": "code",
   "execution_count": null,
   "metadata": {},
   "outputs": [],
   "source": []
  }
 ],
 "metadata": {
  "kernelspec": {
   "display_name": "Python 3",
   "language": "python",
   "name": "python3"
  },
  "language_info": {
   "codemirror_mode": {
    "name": "ipython",
    "version": 3
   },
   "file_extension": ".py",
   "mimetype": "text/x-python",
   "name": "python",
   "nbconvert_exporter": "python",
   "pygments_lexer": "ipython3",
   "version": "3.7.6"
  }
 },
 "nbformat": 4,
 "nbformat_minor": 4
}
