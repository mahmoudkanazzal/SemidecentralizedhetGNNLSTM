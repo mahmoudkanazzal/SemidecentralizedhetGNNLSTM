{
 "cells": [
  {
   "cell_type": "markdown",
   "metadata": {},
   "source": [
    "# Imports & dependencies"
   ]
  },
  {
   "cell_type": "code",
   "execution_count": 1,
   "metadata": {},
   "outputs": [],
   "source": [
    "# Note: I took the dataset taxi_data.h5 from Baidu"
   ]
  },
  {
   "cell_type": "code",
   "execution_count": 2,
   "metadata": {},
   "outputs": [],
   "source": [
    "xx=40;"
   ]
  },
  {
   "cell_type": "code",
   "execution_count": 3,
   "metadata": {},
   "outputs": [],
   "source": [
    "# Date: March-2nd-2023\n",
    "# Description: This source code creates hetergogenous graphs for taxi deamnd and supply prediciton \n",
    "# (with 3 edge types) and then uses them to train and test with GNN and LSTM models for predicting the demand \n",
    "# and suply values\n",
    "# by: Mahmoud Nazzal"
   ]
  },
  {
   "cell_type": "code",
   "execution_count": 4,
   "metadata": {},
   "outputs": [],
   "source": [
    "import numpy as np\n",
    "import torch\n",
    "import torch.nn.functional as F\n",
    "import torch.nn as nn\n",
    "import torch_geometric.transforms as T\n",
    "from torch_geometric.nn import HeteroConv, GCNConv, SAGEConv, GATConv, Linear\n",
    "import torch.optim as optim\n",
    "import networkx as nx\n",
    "from torch_geometric.data import HeteroData\n",
    "import numpy.matlib\n",
    "from scipy.linalg import block_diag\n",
    "import copy\n",
    "# # resources:\n",
    "# 1.https://pytorch-geometric.readthedocs.io/en/2.0.0/notes/heterogeneous.html?highlight=HeteroGNN#using-the-heterogenous-convolution-wrapper \n",
    "# 2.https://levelup.gitconnected.com/forecasting-walmart-quarterly-revenue-pytorch-lstm-example-b4e4b20862a7"
   ]
  },
  {
   "cell_type": "code",
   "execution_count": 5,
   "metadata": {},
   "outputs": [],
   "source": [
    "# this routine converts adjacency matrices into adjacency lists\n",
    "def A_to_edge_index(A):\n",
    "    G=nx.from_numpy_matrix(A)\n",
    "    edge_index=list(G.edges)\n",
    "    z=torch.tensor(np.transpose(edge_index))\n",
    "    return z"
   ]
  },
  {
   "cell_type": "code",
   "execution_count": 6,
   "metadata": {},
   "outputs": [],
   "source": [
    "# if a GPU is aviaable, use it, o.w., use the CPU\n",
    "cuda_device = 0\n",
    "if torch.cuda.is_available():\n",
    "    device = torch.device('cuda' if torch.cuda.is_available() else 'cpu')\n",
    "    torch.cuda.set_device(cuda_device)"
   ]
  },
  {
   "cell_type": "markdown",
   "metadata": {},
   "source": [
    "# Reading the data"
   ]
  },
  {
   "cell_type": "code",
   "execution_count": 7,
   "metadata": {},
   "outputs": [],
   "source": [
    "import pandas as pd\n",
    "import numpy as np\n",
    "# 1. load the data from the pytorch files:\n",
    "# adj=torch.load('adj.pt')\n",
    "# adj2=adj[2]\n",
    "adj_0=torch.load('adj_0.pt')\n",
    "adj_1=torch.load('adj_1.pt')\n",
    "adj_2=torch.load('adj_2.pt')\n",
    "\n",
    "# adj_0=adj_0[0:10, 0:10]\n",
    "# adj_1=adj_1[0:10, 0:10]\n",
    "# adj_2=adj_2[0:10, 0:10]\n",
    "\n",
    "# 2. convert the adj  matrixes to adjacency lists\n",
    "edge_list0=A_to_edge_index(adj_0)\n",
    "edge_list1=A_to_edge_index(adj_1)\n",
    "edge_list2=A_to_edge_index(adj_2)\n",
    "# 3. load the training and testing node feature matrices\n",
    "data0=torch.load('data0.pt')\n",
    "data1=torch.load('data1.pt')\n",
    "X_train_new=torch.load('X_train_new.pt')\n",
    "X_test_new=torch.load('X_test_new.pt')\n",
    "# print(X_train_new.shape)\n",
    "# print(X_test_new.shape)"
   ]
  },
  {
   "cell_type": "code",
   "execution_count": 8,
   "metadata": {},
   "outputs": [
    {
     "name": "stdout",
     "output_type": "stream",
     "text": [
      "[[1.         0.16438753 0.         ... 0.         0.         0.        ]\n",
      " [0.16438753 1.         0.         ... 0.         0.         0.        ]\n",
      " [0.         0.         1.         ... 0.         0.         0.        ]\n",
      " ...\n",
      " [0.         0.         0.         ... 1.         0.92816226 0.89872131]\n",
      " [0.         0.         0.         ... 0.92816226 1.         0.98325835]\n",
      " [0.         0.         0.         ... 0.89872131 0.98325835 1.        ]]\n"
     ]
    }
   ],
   "source": [
    "print(adj_0)"
   ]
  },
  {
   "cell_type": "code",
   "execution_count": 9,
   "metadata": {},
   "outputs": [
    {
     "name": "stdout",
     "output_type": "stream",
     "text": [
      "torch.Size([266, 216, 180])\n",
      "torch.Size([266, 216, 180])\n"
     ]
    }
   ],
   "source": [
    "# X_train_new=X_train_new[0:10,:,:]\n",
    "# X_test_new=X_test_new[0:10,:,:]\n",
    "\n",
    "print(X_train_new.shape)\n",
    "print(X_test_new.shape)"
   ]
  },
  {
   "cell_type": "code",
   "execution_count": 10,
   "metadata": {},
   "outputs": [],
   "source": [
    "# obtain data for the cars in the first 10 regions\n",
    "arrz=[]\n",
    "for kk in range(100):\n",
    "    arr = np.empty((0,216))\n",
    "    arr_tru=np.empty((0,216))\n",
    "    t_s=kk\n",
    "    for i in range(xx):\n",
    "        n_nodes_in_reg=np.sum(data1[t_s, i])\n",
    "\n",
    "        message_nodes_in_reg=X_train_new[i,:, t_s]\n",
    "        X_temp=np.matlib.repmat(message_nodes_in_reg, n_nodes_in_reg, 1)\n",
    "        arr = np.vstack((arr, X_temp))\n",
    "\n",
    "        message_nodes_in_reg_tru=X_train_new[i,:,t_s+1]\n",
    "        X_temp2=np.matlib.repmat(message_nodes_in_reg_tru, n_nodes_in_reg, 1)\n",
    "        arr_tru = np.vstack((arr_tru, X_temp2))\n",
    "\n",
    "    # X=np.asarray(X)   \n",
    "#     print(arr.shape)\n",
    "    arrz.append(arr.shape[0])\n",
    "#     print(arr_tru.shape)   "
   ]
  },
  {
   "cell_type": "code",
   "execution_count": 11,
   "metadata": {},
   "outputs": [
    {
     "name": "stdout",
     "output_type": "stream",
     "text": [
      "(3188, 3188)\n",
      "torch.Size([2, 264241])\n"
     ]
    }
   ],
   "source": [
    "# obtain adj info for the cars in the first 10 regions\n",
    "t_s=100\n",
    "n_nodes_in_reg_list=[]\n",
    "A = np.empty((0,0))\n",
    "for i in range(xx):\n",
    "        n_nodes_in_reg=np.sum(data1[t_s, i])\n",
    "        block=np.matlib.repmat(adj_0[i,i], n_nodes_in_reg, n_nodes_in_reg);\n",
    "        A=block_diag(A, block)\n",
    "A=A.astype(float)       \n",
    "print(A.shape)\n",
    "\n",
    "edge_list0=A_to_edge_index(A)\n",
    "print(edge_list0.shape)"
   ]
  },
  {
   "cell_type": "code",
   "execution_count": 12,
   "metadata": {},
   "outputs": [],
   "source": [
    "# print(A[0:10,0:500])"
   ]
  },
  {
   "cell_type": "code",
   "execution_count": 13,
   "metadata": {},
   "outputs": [],
   "source": [
    "def get_graph_per_ts(t_s):\n",
    "# obtain data for the cars in the first 10 regions\n",
    "    arr = np.empty((0,216))\n",
    "    arr_tru=np.empty((0,216))\n",
    "#     t_s=0\n",
    "    for i in range(xx):\n",
    "        n_nodes_in_reg=np.sum(data1[t_s, i])\n",
    "\n",
    "        message_nodes_in_reg=X_train_new[i,:, t_s]\n",
    "        X_temp=np.matlib.repmat(message_nodes_in_reg, n_nodes_in_reg, 1)\n",
    "        arr = np.vstack((arr, X_temp))\n",
    "\n",
    "        message_nodes_in_reg_tru=X_train_new[i,:,t_s+1]\n",
    "        X_temp2=np.matlib.repmat(message_nodes_in_reg_tru, n_nodes_in_reg, 1)\n",
    "        arr_tru = np.vstack((arr_tru, X_temp2))\n",
    "\n",
    "    # X=np.asarray(X)   \n",
    "#     print(arr.shape)\n",
    "#     print(arr_tru.shape)  \n",
    "\n",
    "\n",
    "    # obtain adj info for the cars in the first 10 regions\n",
    "#     t_s=0\n",
    "    n_nodes_in_reg_list=[]\n",
    "    A0 = np.empty((0,0))\n",
    "    A1 = np.empty((0,0))\n",
    "    A2 = np.empty((0,0))\n",
    "    for i in range(xx):\n",
    "            n_nodes_in_reg=np.sum(data1[t_s, i])\n",
    "            block0=np.matlib.repmat(adj_0[i,i], n_nodes_in_reg, n_nodes_in_reg);\n",
    "            A0=block_diag(A0, block0)\n",
    "            \n",
    "            block1=np.matlib.repmat(adj_0[i,i], n_nodes_in_reg, n_nodes_in_reg);\n",
    "            A1=block_diag(A1, block1)\n",
    "            \n",
    "            block2=np.matlib.repmat(adj_0[i,i], n_nodes_in_reg, n_nodes_in_reg);\n",
    "            A2=block_diag(A2, block2)\n",
    "    \n",
    "#     A0=A0.astype(float) \n",
    "#     print(A.shape)\n",
    "\n",
    "    edge_list0=A_to_edge_index(A0)\n",
    "    edge_list1=A_to_edge_index(A1)\n",
    "    edge_list2=A_to_edge_index(A2)\n",
    "#     print(edge_list0.shape)\n",
    "#     print(edge_list1.shape)\n",
    "#     print(edge_list2.shape)\n",
    "    data = HeteroData()\n",
    "    \n",
    "    \n",
    "    arr=torch.from_numpy(arr)\n",
    "    mean1, std1 =arr.mean(axis=0), arr.std(axis=0)\n",
    "    data['taxi'].x =  (arr - mean1) / std1\n",
    "    \n",
    "    \n",
    "    arr_tru=torch.from_numpy(arr_tru)\n",
    "    mean2, std2 =arr_tru.mean(axis=0), arr_tru.std(axis=0)\n",
    "    data['taxi'].y =  (arr_tru - mean2) / std2\n",
    "    \n",
    "    \n",
    "#     data['taxi'].x= arr\n",
    "    data['taxi', 'near', 'taxi'].edge_index = edge_list0\n",
    "    data['taxi', 'connected', 'taxi'].edge_index = edge_list1\n",
    "    data['taxi', 'OD_similar', 'taxi'].edge_index = edge_list2\n",
    "    temp=np.array([True])\n",
    "    temp2=np.tile(temp, 266)\n",
    "    data['taxi'].test_mask=torch.from_numpy(temp2)\n",
    "#     data['taxi'].y=torch.from_numpy(arr_tru)\n",
    "    return data"
   ]
  },
  {
   "cell_type": "code",
   "execution_count": 14,
   "metadata": {},
   "outputs": [],
   "source": [
    "data=get_graph_per_ts(0)"
   ]
  },
  {
   "cell_type": "code",
   "execution_count": 15,
   "metadata": {},
   "outputs": [
    {
     "name": "stdout",
     "output_type": "stream",
     "text": [
      "{('taxi', 'near', 'taxi'): tensor([[   0,    0,    0,  ..., 1914, 1914, 1915],\n",
      "        [   0,    1,    2,  ..., 1914, 1915, 1915]]), ('taxi', 'connected', 'taxi'): tensor([[   0,    0,    0,  ..., 1914, 1914, 1915],\n",
      "        [   0,    1,    2,  ..., 1914, 1915, 1915]]), ('taxi', 'OD_similar', 'taxi'): tensor([[   0,    0,    0,  ..., 1914, 1914, 1915],\n",
      "        [   0,    1,    2,  ..., 1914, 1915, 1915]])}\n"
     ]
    }
   ],
   "source": [
    "print(data.edge_index_dict)"
   ]
  },
  {
   "cell_type": "code",
   "execution_count": 16,
   "metadata": {},
   "outputs": [
    {
     "name": "stdout",
     "output_type": "stream",
     "text": [
      "HeteroData(\n",
      "  \u001b[1mtaxi\u001b[0m={\n",
      "    x=[1916, 216],\n",
      "    y=[1916, 216],\n",
      "    test_mask=[266]\n",
      "  },\n",
      "  \u001b[1m(taxi, near, taxi)\u001b[0m={ edge_index=[2, 77583] },\n",
      "  \u001b[1m(taxi, connected, taxi)\u001b[0m={ edge_index=[2, 77583] },\n",
      "  \u001b[1m(taxi, OD_similar, taxi)\u001b[0m={ edge_index=[2, 77583] }\n",
      ")\n"
     ]
    }
   ],
   "source": [
    "# verify the graph properties\n",
    "print(data)"
   ]
  },
  {
   "cell_type": "code",
   "execution_count": 17,
   "metadata": {},
   "outputs": [
    {
     "name": "stdout",
     "output_type": "stream",
     "text": [
      "Node types: ['taxi']\n",
      "Edge types: [('taxi', 'near', 'taxi'), ('taxi', 'connected', 'taxi'), ('taxi', 'OD_similar', 'taxi')]\n"
     ]
    }
   ],
   "source": [
    "# extract the metadata from the \"data\" object\n",
    "node_types, edge_types = data.metadata()\n",
    "print(\"Node types:\", node_types)\n",
    "print(\"Edge types:\", edge_types)"
   ]
  },
  {
   "cell_type": "markdown",
   "metadata": {},
   "source": [
    "# The Arch of the GNN Model"
   ]
  },
  {
   "cell_type": "code",
   "execution_count": 18,
   "metadata": {},
   "outputs": [],
   "source": [
    "class HeteroGNN(torch.nn.Module):\n",
    "    def __init__(self, hidden_channels, out_channels, num_layers):\n",
    "        super().__init__()\n",
    "        self.convs = torch.nn.ModuleList()\n",
    "        for _ in range(num_layers):\n",
    "            conv = HeteroConv({\n",
    "                ('taxi', 'near', 'taxi'): GCNConv(-1, hidden_channels),\n",
    "                ('taxi', 'connected', 'taxi'): SAGEConv((-1, -1), hidden_channels),\n",
    "                ('taxi', 'OD_similar', 'taxi'): GATConv((-1, -1), hidden_channels),\n",
    "            }, aggr='sum')\n",
    "            self.convs.append(conv)\n",
    "        self.lin = Linear(hidden_channels, out_channels)\n",
    "\n",
    "    def forward(self, x_dict, edge_index_dict):\n",
    "        for conv in self.convs:\n",
    "            x_dict = conv(x_dict, edge_index_dict)\n",
    "            x_dict = {key: x.relu() for key, x in x_dict.items()}\n",
    "        return self.lin(x_dict['taxi'])"
   ]
  },
  {
   "cell_type": "markdown",
   "metadata": {},
   "source": [
    "###  Initialize a sample of the GNN model"
   ]
  },
  {
   "cell_type": "code",
   "execution_count": 19,
   "metadata": {},
   "outputs": [
    {
     "name": "stdout",
     "output_type": "stream",
     "text": [
      "<class 'torch.Tensor'>\n"
     ]
    }
   ],
   "source": [
    "print(type(data['taxi'].x))"
   ]
  },
  {
   "cell_type": "code",
   "execution_count": 20,
   "metadata": {},
   "outputs": [
    {
     "name": "stdout",
     "output_type": "stream",
     "text": [
      "HeteroGNN(\n",
      "  (convs): ModuleList(\n",
      "    (0): HeteroConv(num_relations=3)\n",
      "    (1): HeteroConv(num_relations=3)\n",
      "    (2): HeteroConv(num_relations=3)\n",
      "  )\n",
      "  (lin): Linear(300, 216, bias=True)\n",
      ")\n"
     ]
    }
   ],
   "source": [
    "Model_GNN = HeteroGNN(hidden_channels=300, out_channels=216,\n",
    "                  num_layers=3)\n",
    "Model_GNN = Model_GNN.double()\n",
    "\n",
    "Model_GNN=Model_GNN.to(device)\n",
    "data=data.to(device)\n",
    "\n",
    "with torch.no_grad():  # Initialize lazy modules.\n",
    "    Model_GNN.eval()\n",
    "    out = Model_GNN(data.x_dict, data.edge_index_dict)    \n",
    "    \n",
    "print(Model_GNN)# print a model summary\n",
    "# print(out.shape)# print the shape of outputs with this initial model "
   ]
  },
  {
   "cell_type": "code",
   "execution_count": 21,
   "metadata": {},
   "outputs": [
    {
     "name": "stdout",
     "output_type": "stream",
     "text": [
      "torch.Size([1916, 216])\n"
     ]
    }
   ],
   "source": [
    "print(out.shape)"
   ]
  },
  {
   "cell_type": "markdown",
   "metadata": {},
   "source": [
    "# Train the GNN Model"
   ]
  },
  {
   "cell_type": "code",
   "execution_count": 22,
   "metadata": {},
   "outputs": [
    {
     "name": "stdout",
     "output_type": "stream",
     "text": [
      "1916\n"
     ]
    }
   ],
   "source": [
    "print(data['taxi'].x.shape[0])"
   ]
  },
  {
   "cell_type": "code",
   "execution_count": 23,
   "metadata": {},
   "outputs": [],
   "source": [
    "# # Obtain training samples:\n",
    "# from torch_geometric.data import HeteroData\n",
    "# data = HeteroData()\n",
    "# data['taxi'].x= X_train_new[:, :, 0] \n",
    "# data['taxi', 'near', 'taxi'].edge_index = edge_list0\n",
    "# data['taxi', 'connected', 'taxi'].edge_index = edge_list2\n",
    "# data['taxi', 'OD_similar', 'taxi'].edge_index = edge_list2\n",
    "temp=np.array([True])\n",
    "temp2=np.tile(temp, data['taxi'].x.shape[0])\n",
    "data['taxi'].train_mask=torch.from_numpy(temp2)\n",
    "# # for k in np.arange(180)\n",
    "# data['taxi'].y=X_train_new[:, :, 1] "
   ]
  },
  {
   "cell_type": "code",
   "execution_count": 24,
   "metadata": {},
   "outputs": [],
   "source": [
    "torch.cuda.set_device(1)\n",
    "import torch.nn as nn\n",
    "mse_loss = nn.MSELoss()\n",
    "\n",
    "device = torch.device('cuda' if torch.cuda.is_available() else 'cpu')\n",
    "data=data.to(device)\n",
    "Model_GNN=Model_GNN.to(device)\n",
    "\n",
    "with torch.no_grad():  # Initialize lazy modules.\n",
    "    out = Model_GNN(data.x_dict, data.edge_index_dict)\n",
    "\n",
    "optimizer = torch.optim.Adam(Model_GNN.parameters(), lr=0.005, weight_decay=0.001)\n",
    "           \n",
    "def train(Model_GNN,data):\n",
    "    Model_GNN.train()\n",
    "    optimizer.zero_grad()\n",
    "    out = Model_GNN(data.x_dict, data.edge_index_dict)\n",
    "    mask = data['taxi'].train_mask\n",
    "#     loss = F.cross_entropy(out[mask], data['domain_node'].y[mask])\n",
    "    loss = mse_loss(out[mask], data['taxi'].y)\n",
    "    loss.backward()\n",
    "    optimizer.step()\n",
    "    return float(loss)\n",
    "\n",
    "# @torch.no_grad()\n",
    "# def test(model,data):\n",
    "#     model.eval()\n",
    "#     pred = model(data.x_dict, data.edge_index_dict).argmax(dim=-1)\n",
    "#     accs = []\n",
    "#     for split in ['train_mask', 'val_mask', 'test_mask']:\n",
    "#         mask = data[split]\n",
    "#         acc = (pred[mask] == data['domain_node'].y[mask]).sum() / mask.sum()\n",
    "#         accs.append(float(acc))\n",
    "#     return accs"
   ]
  },
  {
   "cell_type": "markdown",
   "metadata": {},
   "source": [
    "# FL happens here"
   ]
  },
  {
   "cell_type": "code",
   "execution_count": 25,
   "metadata": {},
   "outputs": [
    {
     "name": "stdout",
     "output_type": "stream",
     "text": [
      "Training at Worker 1\n",
      "0.997326991532845\n"
     ]
    }
   ],
   "source": [
    "optimizer = torch.optim.Adam(Model_GNN.parameters(), lr=0.005, weight_decay=0.001)\n",
    "print(\"Training at Worker 1\")\n",
    "for epoch in range(1, 10):\n",
    "    data=get_graph_per_ts(6+epoch)\n",
    "    temp=np.array([True])\n",
    "    temp2=np.tile(temp, data['taxi'].x.shape[0])\n",
    "    data['taxi'].train_mask=torch.from_numpy(temp2)\n",
    "    data=data.to(device)\n",
    "    loss = train(Model_GNN, data)\n",
    "    if epoch % 5 == 0:\n",
    "        print(loss)"
   ]
  },
  {
   "cell_type": "code",
   "execution_count": 26,
   "metadata": {},
   "outputs": [],
   "source": [
    "# send the model to EDs:\n",
    "Model_glob=copy.deepcopy(Model_GNN)\n",
    "Model_GNN1=copy.deepcopy(Model_GNN)\n",
    "Model_GNN2=copy.deepcopy(Model_GNN)\n",
    "Model_GNN3=copy.deepcopy(Model_GNN)\n",
    "Model_GNN4=copy.deepcopy(Model_GNN)\n",
    "Model_GNN5=copy.deepcopy(Model_GNN)"
   ]
  },
  {
   "cell_type": "code",
   "execution_count": 27,
   "metadata": {},
   "outputs": [
    {
     "name": "stdout",
     "output_type": "stream",
     "text": [
      "39\n"
     ]
    }
   ],
   "source": [
    "print(i)"
   ]
  },
  {
   "cell_type": "code",
   "execution_count": 28,
   "metadata": {},
   "outputs": [
    {
     "name": "stdout",
     "output_type": "stream",
     "text": [
      "Training at Worker 1\n",
      "0.9726642266517089\n"
     ]
    }
   ],
   "source": [
    "# local training at ED1:\n",
    "optimizer = torch.optim.Adam(Model_GNN1.parameters(), lr=0.005, weight_decay=0.001)\n",
    "print(\"Training at Worker 1\")\n",
    "for epoch in range(1, 10):\n",
    "    data=get_graph_per_ts(50+epoch)\n",
    "    temp=np.array([True])\n",
    "    temp2=np.tile(temp, data['taxi'].x.shape[0])\n",
    "    data['taxi'].train_mask=torch.from_numpy(temp2)\n",
    "    data=data.to(device)\n",
    "    loss = train(Model_GNN1, data)\n",
    "    if epoch % 5 == 0:\n",
    "        print(loss)"
   ]
  },
  {
   "cell_type": "code",
   "execution_count": 29,
   "metadata": {},
   "outputs": [],
   "source": [
    "# print(data)"
   ]
  },
  {
   "cell_type": "code",
   "execution_count": 30,
   "metadata": {},
   "outputs": [
    {
     "name": "stdout",
     "output_type": "stream",
     "text": [
      "Training at Worker 2\n",
      "1.0087673819236116\n"
     ]
    }
   ],
   "source": [
    "# local training at ED2:        \n",
    "optimizer = torch.optim.Adam(Model_GNN2.parameters(), lr=0.005, weight_decay=0.001)        \n",
    "print(\"Training at Worker 2\")\n",
    "for epoch in range(1, 10):\n",
    "    data=get_graph_per_ts(51+epoch)\n",
    "    temp=np.array([True])\n",
    "    temp2=np.tile(temp, data['taxi'].x.shape[0])\n",
    "    data['taxi'].train_mask=torch.from_numpy(temp2)\n",
    "    data=data.to(device)\n",
    "    loss = train(Model_GNN2, data)\n",
    "    if epoch % 5 == 0:\n",
    "        print(loss)"
   ]
  },
  {
   "cell_type": "code",
   "execution_count": 31,
   "metadata": {},
   "outputs": [
    {
     "name": "stdout",
     "output_type": "stream",
     "text": [
      "Training at Worker 3\n",
      "0.9222265191013224\n"
     ]
    }
   ],
   "source": [
    "# local training at ED3:        \n",
    "optimizer = torch.optim.Adam(Model_GNN3.parameters(), lr=0.005, weight_decay=0.001)        \n",
    "print(\"Training at Worker 3\")\n",
    "for epoch in range(1, 10):\n",
    "    data=get_graph_per_ts(52+epoch)\n",
    "    temp=np.array([True])\n",
    "    temp2=np.tile(temp, data['taxi'].x.shape[0])\n",
    "    data['taxi'].train_mask=torch.from_numpy(temp2)\n",
    "    data=data.to(device)\n",
    "    loss = train(Model_GNN3, data)\n",
    "    if epoch % 5 == 0:\n",
    "        print(loss)"
   ]
  },
  {
   "cell_type": "code",
   "execution_count": 32,
   "metadata": {},
   "outputs": [
    {
     "name": "stdout",
     "output_type": "stream",
     "text": [
      "Training at Worker 4\n",
      "0.9562857413918272\n"
     ]
    }
   ],
   "source": [
    "# local training at ED4:        \n",
    "optimizer = torch.optim.Adam(Model_GNN4.parameters(), lr=0.005, weight_decay=0.001)        \n",
    "print(\"Training at Worker 4\")\n",
    "for epoch in range(1, 10):\n",
    "    data=get_graph_per_ts(53+epoch)\n",
    "    temp=np.array([True])\n",
    "    temp2=np.tile(temp, data['taxi'].x.shape[0])\n",
    "    data['taxi'].train_mask=torch.from_numpy(temp2)\n",
    "    data=data.to(device)\n",
    "    loss = train(Model_GNN4, data)\n",
    "    if epoch % 5 == 0:\n",
    "        print(loss)"
   ]
  },
  {
   "cell_type": "code",
   "execution_count": 33,
   "metadata": {},
   "outputs": [
    {
     "name": "stdout",
     "output_type": "stream",
     "text": [
      "Training at Worker 5\n",
      "0.9685835444235802\n"
     ]
    }
   ],
   "source": [
    "# local training at ED5:        \n",
    "optimizer = torch.optim.Adam(Model_GNN5.parameters(), lr=0.005, weight_decay=0.001)        \n",
    "print(\"Training at Worker 5\")\n",
    "for epoch in range(1, 10):\n",
    "    data=get_graph_per_ts(54+epoch)\n",
    "    temp=np.array([True])\n",
    "    temp2=np.tile(temp, data['taxi'].x.shape[0])\n",
    "    data['taxi'].train_mask=torch.from_numpy(temp2)\n",
    "    data=data.to(device)\n",
    "    loss = train(Model_GNN5, data)\n",
    "    if epoch % 5 == 0:\n",
    "        print(loss)"
   ]
  },
  {
   "cell_type": "code",
   "execution_count": 34,
   "metadata": {},
   "outputs": [],
   "source": [
    "# print(ag[keysList[1]])\n",
    "# print(Model_glob.state_dict()[keysList[1]])\n",
    "# print(Model_GNN1.state_dict()[keysList[1]])\n",
    "# print(Model_GNN2.state_dict()[keysList[1]])"
   ]
  },
  {
   "cell_type": "code",
   "execution_count": 35,
   "metadata": {},
   "outputs": [],
   "source": [
    "# Model_glob.eval"
   ]
  },
  {
   "cell_type": "code",
   "execution_count": 36,
   "metadata": {},
   "outputs": [],
   "source": [
    "# print(ag[keysList[1]])"
   ]
  },
  {
   "cell_type": "code",
   "execution_count": 37,
   "metadata": {},
   "outputs": [
    {
     "name": "stdout",
     "output_type": "stream",
     "text": [
      "9\n",
      "19\n",
      "29\n"
     ]
    },
    {
     "data": {
      "text/plain": [
       "<All keys matched successfully>"
      ]
     },
     "execution_count": 37,
     "metadata": {},
     "output_type": "execute_result"
    }
   ],
   "source": [
    "# Agg. from the workers to the glob model\n",
    "ag=Model_glob.state_dict()\n",
    "a1=Model_GNN1.state_dict()\n",
    "a2=Model_GNN2.state_dict()\n",
    "a3=Model_GNN3.state_dict()\n",
    "a4=Model_GNN4.state_dict()\n",
    "a5=Model_GNN5.state_dict()\n",
    "\n",
    "keysList = list(ag.keys())\n",
    "for i in range(32):\n",
    "    tensor1=a1[keysList[i]]\n",
    "    tensor2=a2[keysList[i]]\n",
    "    tensor3=a3[keysList[i]]\n",
    "    tensor4=a4[keysList[i]]\n",
    "    tensor5=a5[keysList[i]]\n",
    "\n",
    "    if type(a1[keysList[i]]) is torch.nn.parameter.UninitializedParameter:\n",
    "        print(i)\n",
    "    else:\n",
    "        ag[keysList[i]]=(tensor1+tensor2+tensor3+tensor4+tensor5)/5\n",
    "\n",
    "# load the updated state dict to the model\n",
    "Model_glob.load_state_dict(ag)"
   ]
  },
  {
   "cell_type": "code",
   "execution_count": 38,
   "metadata": {},
   "outputs": [],
   "source": [
    "# Testing with the FL model"
   ]
  },
  {
   "cell_type": "code",
   "execution_count": 39,
   "metadata": {},
   "outputs": [],
   "source": [
    "mse = nn.MSELoss()\n",
    "lossl1 = nn.L1Loss()\n",
    "from sklearn.metrics import mean_absolute_percentage_error\n",
    "\n",
    "from sklearn.metrics import mean_squared_error\n",
    "import math\n",
    "from sklearn.metrics import mean_absolute_percentage_error\n"
   ]
  },
  {
   "cell_type": "code",
   "execution_count": 40,
   "metadata": {},
   "outputs": [],
   "source": [
    "yy=40\n",
    "\n",
    "def get_graph_per_ts(t_s):\n",
    "# obtain data for the cars in the first 10 regions\n",
    "    arr = np.empty((0,216))\n",
    "    arr_tru=np.empty((0,216))\n",
    "#     t_s=0\n",
    "    for i in range(yy):\n",
    "        n_nodes_in_reg=np.sum(data1[t_s, i])\n",
    "\n",
    "        message_nodes_in_reg=X_train_new[i,:, t_s]\n",
    "        X_temp=np.matlib.repmat(message_nodes_in_reg, n_nodes_in_reg, 1)\n",
    "        arr = np.vstack((arr, X_temp))\n",
    "\n",
    "        message_nodes_in_reg_tru=X_train_new[i,:,t_s+1]\n",
    "        X_temp2=np.matlib.repmat(message_nodes_in_reg_tru, n_nodes_in_reg, 1)\n",
    "        arr_tru = np.vstack((arr_tru, X_temp2))\n",
    "\n",
    "    # X=np.asarray(X)   \n",
    "#     print(arr.shape)\n",
    "#     print(arr_tru.shape)  \n",
    "\n",
    "\n",
    "    # obtain adj info for the cars in the first 10 regions\n",
    "#     t_s=0\n",
    "    n_nodes_in_reg_list=[]\n",
    "    A0 = np.empty((0,0))\n",
    "    A1 = np.empty((0,0))\n",
    "    A2 = np.empty((0,0))\n",
    "    for i in range(xx):\n",
    "            n_nodes_in_reg=np.sum(data1[t_s, i])\n",
    "            block0=np.matlib.repmat(adj_0[i,i], n_nodes_in_reg, n_nodes_in_reg);\n",
    "            A0=block_diag(A0, block0)\n",
    "            \n",
    "            block1=np.matlib.repmat(adj_0[i,i], n_nodes_in_reg, n_nodes_in_reg);\n",
    "            A1=block_diag(A1, block1)\n",
    "            \n",
    "            block2=np.matlib.repmat(adj_0[i,i], n_nodes_in_reg, n_nodes_in_reg);\n",
    "            A2=block_diag(A2, block2)\n",
    "    \n",
    "#     A0=A0.astype(float) \n",
    "#     print(A.shape)\n",
    "\n",
    "    edge_list0=A_to_edge_index(A0)\n",
    "    edge_list1=A_to_edge_index(A1)\n",
    "    edge_list2=A_to_edge_index(A2)\n",
    "#     print(edge_list0.shape)\n",
    "#     print(edge_list1.shape)\n",
    "#     print(edge_list2.shape)\n",
    "    data = HeteroData()\n",
    "    \n",
    "    \n",
    "    arr=torch.from_numpy(arr)\n",
    "    mean1, std1 =arr.mean(axis=0), arr.std(axis=0)\n",
    "    data['taxi'].x =  (arr - mean1) / std1\n",
    "    \n",
    "    \n",
    "    arr_tru=torch.from_numpy(arr_tru)\n",
    "    mean2, std2 =arr_tru.mean(axis=0), arr_tru.std(axis=0)\n",
    "    data['taxi'].y =  (arr_tru - mean2) / std2\n",
    "    \n",
    "#     data['taxi'].x= arr\n",
    "    data['taxi', 'near', 'taxi'].edge_index = edge_list0\n",
    "    data['taxi', 'connected', 'taxi'].edge_index = edge_list1\n",
    "    data['taxi', 'OD_similar', 'taxi'].edge_index = edge_list2\n",
    "    temp=np.array([True])\n",
    "    temp2=np.tile(temp, 266)\n",
    "    data['taxi'].test_mask=torch.from_numpy(temp2)\n",
    "#     data['taxi'].y=torch.from_numpy(arr_tru)\n",
    "    return data"
   ]
  },
  {
   "cell_type": "markdown",
   "metadata": {},
   "source": [
    "# TESTING"
   ]
  },
  {
   "cell_type": "code",
   "execution_count": 41,
   "metadata": {},
   "outputs": [],
   "source": [
    "data=get_graph_per_ts(0)\n",
    "temp=np.array([True])\n",
    "temp2=np.tile(temp, data['taxi'].x.shape[0])\n",
    "data['taxi'].test_mask=torch.from_numpy(temp2)\n",
    "data=data.to(device)"
   ]
  },
  {
   "cell_type": "code",
   "execution_count": 42,
   "metadata": {},
   "outputs": [
    {
     "name": "stdout",
     "output_type": "stream",
     "text": [
      "HeteroData(\n",
      "  \u001b[1mtaxi\u001b[0m={\n",
      "    x=[1916, 216],\n",
      "    y=[1916, 216],\n",
      "    test_mask=[1916]\n",
      "  },\n",
      "  \u001b[1m(taxi, near, taxi)\u001b[0m={ edge_index=[2, 77583] },\n",
      "  \u001b[1m(taxi, connected, taxi)\u001b[0m={ edge_index=[2, 77583] },\n",
      "  \u001b[1m(taxi, OD_similar, taxi)\u001b[0m={ edge_index=[2, 77583] }\n",
      ")\n"
     ]
    }
   ],
   "source": [
    "print(data)"
   ]
  },
  {
   "cell_type": "code",
   "execution_count": 43,
   "metadata": {},
   "outputs": [],
   "source": [
    "# mean1, std1 =data['taxi'].x.mean(axis=0), data['taxi'].x.std(axis=0)\n",
    "# data['taxi'].x =  (data['taxi'].x - mean1) / std1\n",
    "# X_test_new[:, :, 1] =  (X_test_new[:, :, 1]  - mean1) / std1\n",
    "# # test_array = (data_array[(num_train + num_val) :] - mean) / std\n",
    "\n",
    "# data['taxi'].x= X_test_new[:, :, 0] \n",
    "# # for k in np.arange(180)\n",
    "# data['taxi'].y=X_test_new[:, :, 1] "
   ]
  },
  {
   "cell_type": "code",
   "execution_count": 44,
   "metadata": {},
   "outputs": [
    {
     "name": "stdout",
     "output_type": "stream",
     "text": [
      "tensor([[ 0.0072, -0.0490,  0.0287,  ...,  0.0298,  0.0037,  0.0680],\n",
      "        [ 0.0145, -0.0252,  0.0564,  ...,  0.0232, -0.0016,  0.0675],\n",
      "        [ 0.0181, -0.0184,  0.0717,  ...,  0.0240,  0.0013,  0.0700],\n",
      "        ...,\n",
      "        [ 0.0257, -0.0446,  0.0632,  ...,  0.0207, -0.0188,  0.0614],\n",
      "        [ 0.0239, -0.0328,  0.0670,  ...,  0.0099, -0.0312,  0.0578],\n",
      "        [ 0.0219, -0.0279,  0.0698,  ...,  0.0040, -0.0368,  0.0565]],\n",
      "       dtype=torch.float64)\n",
      "tensor([[ 1.1369,  1.2540,  1.1703,  ...,  0.7479,  1.3638,  1.5405],\n",
      "        [ 1.1369,  1.2540,  1.1703,  ...,  0.7479,  1.3638,  1.5405],\n",
      "        [ 1.1369,  1.2540,  1.1703,  ...,  0.7479,  1.3638,  1.5405],\n",
      "        ...,\n",
      "        [-0.7243, -0.7051, -0.8390,  ..., -0.8107, -0.8967, -0.8498],\n",
      "        [-0.7243, -0.7051, -0.8390,  ..., -0.8107, -0.8967, -0.8498],\n",
      "        [-0.7243, -0.7051, -0.8390,  ..., -0.8107, -0.8967, -0.8498]],\n",
      "       dtype=torch.float64)\n",
      "rmse 0.9741276311413879\n",
      "mae tensor(0.7185, dtype=torch.float64)\n",
      "mape 124.40904806490596\n"
     ]
    }
   ],
   "source": [
    "with torch.no_grad():  # Initialize lazy modules.\n",
    "#     Model_GNN.eval()\n",
    "    out = Model_glob(data.x_dict, data.edge_index_dict)  \n",
    "    \n",
    "# out[out<0]=0 \n",
    "estim=out.cpu()\n",
    "# estim=(estim*std1.cpu()+mean1.cpu())\n",
    "\n",
    "org=data['taxi'].y.cpu()\n",
    "# org=(org+mean1)\n",
    "\n",
    "print(estim)\n",
    "print(org)\n",
    "rmse=math.sqrt(mse(estim, org))\n",
    "print(\"rmse\", rmse)\n",
    "print(\"mae\", lossl1(estim, org))\n",
    "print(\"mape\", mean_absolute_percentage_error(estim, org))"
   ]
  },
  {
   "cell_type": "code",
   "execution_count": 45,
   "metadata": {},
   "outputs": [],
   "source": [
    "# case 1:\n",
    "# rmse 0.9877037084536964\n",
    "# mae tensor(0.7456, dtype=torch.float64)\n",
    "# mape 118.14108507133534\n",
    "\n",
    "# case2:\n",
    "# rmse 0.9854072679741389\n",
    "# mae tensor(0.7414, dtype=torch.float64)\n",
    "# mape 479.27128253615007 \n",
    " \n",
    "# case3:\n",
    "# rmse 0.9741276311413879\n",
    "# mae tensor(0.7185, dtype=torch.float64)\n",
    "# mape 124.40904806490596"
   ]
  },
  {
   "cell_type": "code",
   "execution_count": 46,
   "metadata": {},
   "outputs": [],
   "source": [
    "# # mean1, std1 = X_test_new[:, :, 0].mean(axis=0), X_test_new[:, :, 0] .std(axis=0)\n",
    "# # X_test_new[:, :, 0] =  (X_test_new[:, :, 0]  - mean1) / std1\n",
    "# # X_test_new[:, :, 1] =  (X_test_new[:, :, 1]  - mean1) / std1\n",
    "# # # test_array = (data_array[(num_train + num_val) :] - mean) / std\n",
    "\n",
    "# # data['taxi'].x= X_test_new[:, :, 0] \n",
    "# # # for k in np.arange(180)\n",
    "# # data['taxi'].y=X_test_new[:, :, 1] \n",
    "# data=data.to(device)\n",
    "# Model_GNN=Model_GNN.to(device)"
   ]
  },
  {
   "cell_type": "code",
   "execution_count": 47,
   "metadata": {},
   "outputs": [
    {
     "name": "stdout",
     "output_type": "stream",
     "text": [
      "{'taxi': tensor([[ 0.6261,  0.2481, -0.0411,  ..., -0.2406,  0.0622,  1.2861],\n",
      "        [ 0.6261,  0.2481, -0.0411,  ..., -0.2406,  0.0622,  1.2861],\n",
      "        [ 0.6261,  0.2481, -0.0411,  ..., -0.2406,  0.0622,  1.2861],\n",
      "        ...,\n",
      "        [-1.7378, -1.5997, -1.5897,  ..., -1.0267, -0.6330, -1.2873],\n",
      "        [-1.7378, -1.5997, -1.5897,  ..., -1.0267, -0.6330, -1.2873],\n",
      "        [-1.7378, -1.5997, -1.5897,  ..., -1.0267, -0.6330, -1.2873]],\n",
      "       device='cuda:1', dtype=torch.float64)}\n"
     ]
    }
   ],
   "source": [
    "print(data.x_dict)"
   ]
  },
  {
   "cell_type": "code",
   "execution_count": 48,
   "metadata": {},
   "outputs": [],
   "source": [
    "# with torch.no_grad():  # Initialize lazy modules.\n",
    "#     Model_GNN.eval()\n",
    "#     out = Model_GNN(data.x_dict, data.edge_index_dict)  \n",
    "\n",
    "# # out[out<0]=0 \n",
    "# # estim=out.cpu()\n",
    "# # estim=(estim+mean1)\n",
    "\n",
    "# # org=data['taxi'].y.cpu()\n",
    "# # org=(org+mean1)\n",
    "\n",
    "# # print(estim)\n",
    "# # print(org)\n",
    "# # rmse=math.sqrt(mse(estim, org))\n",
    "# # print(\"rmse\", rmse)\n",
    "# # print(\"mae\", lossl1(estim, org))\n",
    "# # print(\"mape\", mean_absolute_percentage_error(estim, org))"
   ]
  },
  {
   "cell_type": "code",
   "execution_count": 60,
   "metadata": {},
   "outputs": [],
   "source": [
    "rmse_arr=np.array([\n",
    "15.57021036,\n",
    "14.9520569,\n",
    "14.72157284,\n",
    "14.5546706,\n",
    "14.41876448,\n",
    "14.23845442,\n",
    "14.21011919,\n",
    "14.16761634,\n",
    "])\n",
    "\n",
    "mae_arr=np.array([\n",
    "14.39352,\n",
    "13.79379,\n",
    "12.114546,\n",
    "12.97302598,\n",
    "12.68785178,\n",
    "12.02820639,\n",
    "12.0065946,\n",
    "11.9946,\n",
    "\n",
    "])\n",
    "\n",
    "mape_arr=np.array([\n",
    "12.49646,\n",
    "12.2916,\n",
    "11.98431,\n",
    "11.47216,\n",
    "11.257057,\n",
    "10.335187,\n",
    "10.294215,\n",
    "10.243,\n",
    "\n",
    "\n",
    "\n",
    "\n",
    "])\n",
    "\n",
    "ratios=np.array([224,\n",
    "552,\n",
    "827,\n",
    "1106,\n",
    "1392,\n",
    "1546,\n",
    "1726,\n",
    "1916\n",
    "])"
   ]
  },
  {
   "cell_type": "code",
   "execution_count": 61,
   "metadata": {},
   "outputs": [],
   "source": [
    "# from src.loader import load_graph\n",
    "# from classes import extract_all_features_single \n",
    "import sys\n",
    "import os\n",
    "# from src import utils\n",
    "import numpy as np\n",
    "import pandas as pd\n",
    "import torch\n",
    "import torch_geometric.transforms as T\n",
    "# from src.utils import largest_indices\n",
    "# from src.utils import cal_n_add_facni \n",
    "# from src.utils import extract_feat_adj2\n",
    "# from src.utils import calc_cad \n",
    "import networkx as nx\n",
    "from scipy import spatial\n",
    "import copy  \n",
    "from matplotlib import pyplot as plt \n",
    "import random"
   ]
  },
  {
   "cell_type": "code",
   "execution_count": 64,
   "metadata": {},
   "outputs": [],
   "source": [
    "rmse_arr=np.sort(rmse_arr)[::-1]\n",
    "mae_arr=np.sort(mae_arr)[::-1]\n",
    "mape_arr=np.sort(mape_arr)[::-1]"
   ]
  },
  {
   "cell_type": "code",
   "execution_count": 67,
   "metadata": {},
   "outputs": [
    {
     "data": {
      "image/png": "[encoded data removed]",
      "text/plain": [
       "<Figure size 640x480 with 1 Axes>"
      ]
     },
     "metadata": {},
     "output_type": "display_data"
    }
   ],
   "source": [
    "# num_change_arr=val_nodes\n",
    "\n",
    "if not os.path.exists('RESULTS_feb27'):\n",
    "    os.makedirs('RESULTS_feb27')\n",
    "plt.figure(facecolor='white')\n",
    "plt.title(\"Prediction Peforamnce with a 1916-node graph\")\n",
    "plt.xlabel(\"Training graph size nodes\") \n",
    "plt.ylabel(\"Metric value\") \n",
    "plt.plot(ratios, rmse_arr,'-o', label=(\"RMSE\"))\n",
    "plt.plot(ratios, mae_arr,'-x', label=(\"MAE\"))\n",
    "plt.plot(ratios, mape_arr,'-*', label=(\"MAPE\"))\n",
    "# plt.fill_between(num_change_arr, asr_lower, asr_upper, color='blue', alpha=0.2)\n",
    "\n",
    "plt.grid()\n",
    "\n",
    "plt.legend(title = str(94)+\" adversary nodes\")\n",
    "plt.legend(loc='upper right')\n",
    "# # plt.ylim(-0.1, 1)\n",
    "# # plt.xlim(0, 500)\n",
    "# x_ticks=num_change_arr\n",
    "# x_labels = num_change_arr\n",
    "# #add x-axis values to plot\n",
    "# plt.xticks(ticks=x_ticks, labels=x_labels)\n",
    "name='RESULTS_feb27/generalizability.png'\n",
    "plt.savefig(name, dpi=150) \n",
    "name='RESULTS_feb27/generalizability.pdf'\n",
    "plt.savefig(name, dpi=150) \n",
    "\n",
    "plt.show()"
   ]
  },
  {
   "cell_type": "code",
   "execution_count": null,
   "metadata": {},
   "outputs": [],
   "source": []
  }
 ],
 "metadata": {
  "kernelspec": {
   "display_name": "Python 3",
   "language": "python",
   "name": "python3"
  },
  "language_info": {
   "codemirror_mode": {
    "name": "ipython",
    "version": 3
   },
   "file_extension": ".py",
   "mimetype": "text/x-python",
   "name": "python",
   "nbconvert_exporter": "python",
   "pygments_lexer": "ipython3",
   "version": "3.7.6"
  }
 },
 "nbformat": 4,
 "nbformat_minor": 4
}
