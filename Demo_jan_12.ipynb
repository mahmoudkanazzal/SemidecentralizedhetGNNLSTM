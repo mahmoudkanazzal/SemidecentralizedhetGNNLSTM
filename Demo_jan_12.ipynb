{
 "cells": [
  {
   "cell_type": "markdown",
   "metadata": {},
   "source": [
    "# Imports"
   ]
  },
  {
   "cell_type": "code",
   "execution_count": 1,
   "metadata": {},
   "outputs": [],
   "source": [
    "import json,os,shutil,yaml,torch\n",
    "import torch.nn as nn\n",
    "from models import create_model\n",
    "from utils.util import get_optimizer, get_loss, get_scheduler\n",
    "from utils.data_container import get_data_loader\n",
    "from utils.preprocess import preprocessing_for_metric\n",
    "from utils.train import train_model, test_model\n"
   ]
  },
  {
   "cell_type": "code",
   "execution_count": 2,
   "metadata": {},
   "outputs": [],
   "source": [
    "def train(conf, data_category):\n",
    "    print(json.dumps(conf, indent=4))\n",
    "\n",
    "    os.environ[\"CUDA_VISIBLE_DEVICES\"] = str(conf['device'])\n",
    "    device = torch.device(0)\n",
    "\n",
    "    model_name = conf['model']['name']\n",
    "    optimizer_name = conf['optimizer']['name']\n",
    "    data_set = conf['data']['dataset']\n",
    "    scheduler_name = conf['scheduler']['name']\n",
    "    loss = get_loss(**conf['loss'])\n",
    "    print(\"aaaa\", device)\n",
    "\n",
    "    loss.to(device)\n",
    "\n",
    "\n",
    "    support = preprocessing_for_metric(data_category=data_category, dataset=conf['data']['dataset'],\n",
    "                                           Normal_Method=conf['data']['Normal_Method'], _len=conf['data']['_len'], **conf['preprocess'])\n",
    "    model, trainer = create_model(model_name,\n",
    "                                  loss,\n",
    "                                  conf['model'][model_name],\n",
    "                                  data_category,\n",
    "                                  device,\n",
    "                                  support)\n",
    "\n",
    "    optimizer = get_optimizer(optimizer_name, model.parameters(), conf['optimizer'][optimizer_name]['lr'])\n",
    "    scheduler = get_scheduler(scheduler_name, optimizer, **conf['scheduler'][scheduler_name])\n",
    "    if torch.cuda.device_count() > 1:\n",
    "        print(\"use \", torch.cuda.device_count(), \"GPUS\")\n",
    "        model = nn.DataParallel(model)\n",
    "    else:\n",
    "        model.to(device)\n",
    "\n",
    "    save_folder = os.path.join('save', conf['name'], f'{data_set}_{\"\".join(data_category)}', conf['tag'])\n",
    "    run_folder = os.path.join('run', conf['name'], f'{data_set}_{\"\".join(data_category)}', conf['tag'])\n",
    "\n",
    "    shutil.rmtree(save_folder, ignore_errors=True)\n",
    "    os.makedirs(save_folder)\n",
    "    shutil.rmtree(run_folder, ignore_errors=True)\n",
    "    os.makedirs(run_folder)\n",
    "\n",
    "    with open(os.path.join(save_folder, 'config.yaml'), 'w+') as _f:\n",
    "        yaml.safe_dump(conf, _f)\n",
    "\n",
    "    data_loader, normal = get_data_loader(**conf['data'], data_category=data_category, device=device,\n",
    "                                          model_name=model_name)\n",
    "\n",
    "\n",
    "    train_model(model=model,\n",
    "                       dataloaders=data_loader,\n",
    "                       trainer=trainer,\n",
    "                       optimizer=optimizer,\n",
    "                       normal=normal,\n",
    "                       scheduler=scheduler,\n",
    "                       folder=save_folder,\n",
    "                       tensorboard_folder=run_folder,\n",
    "                       device=device,\n",
    "                       **conf['train'])\n",
    "    test_model(folder=save_folder,\n",
    "                      trainer=trainer,\n",
    "                      model=model,\n",
    "                      normal=normal,\n",
    "                      dataloaders=data_loader,\n",
    "                      device=device)\n"
   ]
  },
  {
   "cell_type": "code",
   "execution_count": 3,
   "metadata": {},
   "outputs": [],
   "source": [
    "# print(conf['taxi'])"
   ]
  },
  {
   "cell_type": "code",
   "execution_count": 4,
   "metadata": {},
   "outputs": [],
   "source": [
    "con = 'evoconv2-config'\n",
    "data = ['bike']\n",
    "with open(os.path.join('config', f'{con}.yaml')) as f:\n",
    "    conf = yaml.safe_load(f)\n",
    "# train(conf, data)"
   ]
  },
  {
   "cell_type": "code",
   "execution_count": 5,
   "metadata": {},
   "outputs": [
    {
     "name": "stdout",
     "output_type": "stream",
     "text": [
      "aaaa cuda:0\n",
      "std: 37.78643496676519 mean: 26.451628298080365\n",
      "nodevec1 : torch.Size([266, 50])\n",
      "nodevec2 : torch.Size([50, 266])\n",
      "w1 : torch.Size([50, 50])\n",
      "w2 : torch.Size([50, 50])\n",
      "b1 : torch.Size([50])\n",
      "b2 : torch.Size([50])\n",
      "encoder.0.ru_gate_g_conv.graphconv.0.out.weight : torch.Size([50, 108])\n",
      "encoder.0.ru_gate_g_conv.graphconv.0.out.bias : torch.Size([50])\n",
      "encoder.0.ru_gate_g_conv.graphconv.1.out.weight : torch.Size([50, 200])\n",
      "encoder.0.ru_gate_g_conv.graphconv.1.out.bias : torch.Size([50])\n",
      "encoder.0.ru_gate_g_conv.graphconv.2.out.weight : torch.Size([50, 200])\n",
      "encoder.0.ru_gate_g_conv.graphconv.2.out.bias : torch.Size([50])\n",
      "encoder.0.ru_gate_g_conv.attlinear.weight : torch.Size([1, 13300])\n",
      "encoder.0.ru_gate_g_conv.attlinear.bias : torch.Size([1])\n",
      "encoder.0.candidate_g_conv.graphconv.0.out.weight : torch.Size([25, 108])\n",
      "encoder.0.candidate_g_conv.graphconv.0.out.bias : torch.Size([25])\n",
      "encoder.0.candidate_g_conv.graphconv.1.out.weight : torch.Size([25, 100])\n",
      "encoder.0.candidate_g_conv.graphconv.1.out.bias : torch.Size([25])\n",
      "encoder.0.candidate_g_conv.graphconv.2.out.weight : torch.Size([25, 100])\n",
      "encoder.0.candidate_g_conv.graphconv.2.out.bias : torch.Size([25])\n",
      "encoder.0.candidate_g_conv.attlinear.weight : torch.Size([1, 6650])\n",
      "encoder.0.candidate_g_conv.attlinear.bias : torch.Size([1])\n",
      "decoder.0.ru_gate_g_conv.graphconv.0.out.weight : torch.Size([50, 108])\n",
      "decoder.0.ru_gate_g_conv.graphconv.0.out.bias : torch.Size([50])\n",
      "decoder.0.ru_gate_g_conv.graphconv.1.out.weight : torch.Size([50, 200])\n",
      "decoder.0.ru_gate_g_conv.graphconv.1.out.bias : torch.Size([50])\n",
      "decoder.0.ru_gate_g_conv.graphconv.2.out.weight : torch.Size([50, 200])\n",
      "decoder.0.ru_gate_g_conv.graphconv.2.out.bias : torch.Size([50])\n",
      "decoder.0.ru_gate_g_conv.attlinear.weight : torch.Size([1, 13300])\n",
      "decoder.0.ru_gate_g_conv.attlinear.bias : torch.Size([1])\n",
      "decoder.0.candidate_g_conv.graphconv.0.out.weight : torch.Size([25, 108])\n",
      "decoder.0.candidate_g_conv.graphconv.0.out.bias : torch.Size([25])\n",
      "decoder.0.candidate_g_conv.graphconv.1.out.weight : torch.Size([25, 100])\n",
      "decoder.0.candidate_g_conv.graphconv.1.out.bias : torch.Size([25])\n",
      "decoder.0.candidate_g_conv.graphconv.2.out.weight : torch.Size([25, 100])\n",
      "decoder.0.candidate_g_conv.graphconv.2.out.bias : torch.Size([25])\n",
      "decoder.0.candidate_g_conv.attlinear.weight : torch.Size([1, 6650])\n",
      "decoder.0.candidate_g_conv.attlinear.bias : torch.Size([1])\n",
      "decoder.out.weight : torch.Size([2, 25])\n",
      "decoder.out.bias : torch.Size([2])\n",
      "\n",
      "std: 37.78643496676519 mean: 26.451628298080365\n"
     ]
    }
   ],
   "source": [
    "# conf\n",
    "data_category=['taxi']\n",
    "\n",
    "os.environ[\"CUDA_VISIBLE_DEVICES\"] = str(conf['device'])\n",
    "device = torch.device(0)\n",
    "\n",
    "model_name = conf['model']['name']\n",
    "optimizer_name = conf['optimizer']['name']\n",
    "data_set = conf['data']['dataset']\n",
    "scheduler_name = conf['scheduler']['name']\n",
    "loss = get_loss(**conf['loss'])\n",
    "print(\"aaaa\", device)\n",
    "\n",
    "loss.to(device)\n",
    "\n",
    "\n",
    "support = preprocessing_for_metric(data_category=data_category, dataset=conf['data']['dataset'],\n",
    "                                       Normal_Method=conf['data']['Normal_Method'], _len=conf['data']['_len'], **conf['preprocess'])\n",
    "model, trainer = create_model(model_name,\n",
    "                              loss,\n",
    "                              conf['model'][model_name],\n",
    "                              data_category,\n",
    "                              device,\n",
    "                              support)\n",
    "\n",
    "optimizer = get_optimizer(optimizer_name, model.parameters(), conf['optimizer'][optimizer_name]['lr'])\n",
    "scheduler = get_scheduler(scheduler_name, optimizer, **conf['scheduler'][scheduler_name])\n",
    "if torch.cuda.device_count() > 1:\n",
    "    print(\"use \", torch.cuda.device_count(), \"GPUS\")\n",
    "    model = nn.DataParallel(model)\n",
    "else:\n",
    "    model.to(device)\n",
    "\n",
    "save_folder = os.path.join('save', conf['name'], f'{data_set}_{\"\".join(data_category)}', conf['tag'])\n",
    "run_folder = os.path.join('run', conf['name'], f'{data_set}_{\"\".join(data_category)}', conf['tag'])\n",
    "\n",
    "shutil.rmtree(save_folder, ignore_errors=True)\n",
    "os.makedirs(save_folder)\n",
    "shutil.rmtree(run_folder, ignore_errors=True)\n",
    "os.makedirs(run_folder)\n",
    "\n",
    "with open(os.path.join(save_folder, 'config.yaml'), 'w+') as _f:\n",
    "    yaml.safe_dump(conf, _f)\n",
    "\n",
    "data_loader, normal = get_data_loader(**conf['data'], data_category=data_category, device=device,\n",
    "                                      model_name=model_name)\n",
    "\n",
    "\n",
    "\n",
    "\n"
   ]
  },
  {
   "cell_type": "code",
   "execution_count": 6,
   "metadata": {},
   "outputs": [],
   "source": [
    "# print(data_loader)"
   ]
  },
  {
   "cell_type": "code",
   "execution_count": 7,
   "metadata": {},
   "outputs": [],
   "source": [
    "# print(data_loader)"
   ]
  },
  {
   "cell_type": "code",
   "execution_count": 8,
   "metadata": {},
   "outputs": [
    {
     "name": "stdout",
     "output_type": "stream",
     "text": [
      "path does not exist\n",
      "EvoNN2(\n",
      "  (encoder): DCRNNEncoder(\n",
      "    (0): DCGRUCell(\n",
      "      (ru_gate_g_conv): EvolutionCell(\n",
      "        (perceptron): ModuleList()\n",
      "        (graphconv): ModuleList(\n",
      "          (0): GraphConv_(\n",
      "            (out): Linear(in_features=108, out_features=50, bias=True)\n",
      "          )\n",
      "          (1): GraphConv_(\n",
      "            (out): Linear(in_features=200, out_features=50, bias=True)\n",
      "          )\n",
      "          (2): GraphConv_(\n",
      "            (out): Linear(in_features=200, out_features=50, bias=True)\n",
      "          )\n",
      "        )\n",
      "        (attlinear): Linear(in_features=13300, out_features=1, bias=True)\n",
      "      )\n",
      "      (candidate_g_conv): EvolutionCell(\n",
      "        (perceptron): ModuleList()\n",
      "        (graphconv): ModuleList(\n",
      "          (0): GraphConv_(\n",
      "            (out): Linear(in_features=108, out_features=25, bias=True)\n",
      "          )\n",
      "          (1): GraphConv_(\n",
      "            (out): Linear(in_features=100, out_features=25, bias=True)\n",
      "          )\n",
      "          (2): GraphConv_(\n",
      "            (out): Linear(in_features=100, out_features=25, bias=True)\n",
      "          )\n",
      "        )\n",
      "        (attlinear): Linear(in_features=6650, out_features=1, bias=True)\n",
      "      )\n",
      "    )\n",
      "  )\n",
      "  (decoder): DCRNNDecoder(\n",
      "    (0): DCGRUCell(\n",
      "      (ru_gate_g_conv): EvolutionCell(\n",
      "        (perceptron): ModuleList()\n",
      "        (graphconv): ModuleList(\n",
      "          (0): GraphConv_(\n",
      "            (out): Linear(in_features=108, out_features=50, bias=True)\n",
      "          )\n",
      "          (1): GraphConv_(\n",
      "            (out): Linear(in_features=200, out_features=50, bias=True)\n",
      "          )\n",
      "          (2): GraphConv_(\n",
      "            (out): Linear(in_features=200, out_features=50, bias=True)\n",
      "          )\n",
      "        )\n",
      "        (attlinear): Linear(in_features=13300, out_features=1, bias=True)\n",
      "      )\n",
      "      (candidate_g_conv): EvolutionCell(\n",
      "        (perceptron): ModuleList()\n",
      "        (graphconv): ModuleList(\n",
      "          (0): GraphConv_(\n",
      "            (out): Linear(in_features=108, out_features=25, bias=True)\n",
      "          )\n",
      "          (1): GraphConv_(\n",
      "            (out): Linear(in_features=100, out_features=25, bias=True)\n",
      "          )\n",
      "          (2): GraphConv_(\n",
      "            (out): Linear(in_features=100, out_features=25, bias=True)\n",
      "          )\n",
      "        )\n",
      "        (attlinear): Linear(in_features=6650, out_features=1, bias=True)\n",
      "      )\n",
      "    )\n",
      "    (out): Linear(in_features=25, out_features=2, bias=True)\n",
      "  )\n",
      ")\n",
      "Trainable parameters: 138306.\n"
     ]
    },
    {
     "name": "stderr",
     "output_type": "stream",
     "text": [
      "train epoch:   0, train loss: 29.2323: : 94it [00:25,  3.66it/s]\n",
      "validate epoch:   0, validate loss: 26.5654: : 21it [00:01, 17.45it/s]\n"
     ]
    },
    {
     "name": "stdout",
     "output_type": "stream",
     "text": [
      "Better model at epoch 0 recorded.\n"
     ]
    },
    {
     "name": "stderr",
     "output_type": "stream",
     "text": [
      "test  epoch:   0, test  loss: 26.0422: : 21it [00:01, 16.81it/s]\n",
      "train epoch:   1, train loss: 18.8065: : 94it [00:25,  3.68it/s]\n",
      "validate epoch:   1, validate loss: 22.0623: : 21it [00:01, 17.73it/s]\n"
     ]
    },
    {
     "name": "stdout",
     "output_type": "stream",
     "text": [
      "Better model at epoch 1 recorded.\n"
     ]
    },
    {
     "name": "stderr",
     "output_type": "stream",
     "text": [
      "test  epoch:   1, test  loss: 21.2594: : 21it [00:01, 16.53it/s]\n",
      "train epoch:   2, train loss: 15.4374: : 94it [00:25,  3.66it/s]\n",
      "validate epoch:   2, validate loss: 23.4279: : 21it [00:01, 16.47it/s]\n",
      "test  epoch:   2, test  loss: 22.6942: : 21it [00:01, 15.34it/s]\n"
     ]
    }
   ],
   "source": [
    "train_model(model=model,\n",
    "                   dataloaders=data_loader,\n",
    "                   trainer=trainer,\n",
    "                   optimizer=optimizer,\n",
    "                   normal=normal,\n",
    "                   scheduler=scheduler,\n",
    "                   folder=save_folder,\n",
    "                   tensorboard_folder=run_folder,\n",
    "                   device=device,\n",
    "                   **conf['train'])"
   ]
  },
  {
   "cell_type": "code",
   "execution_count": 9,
   "metadata": {},
   "outputs": [],
   "source": [
    "# import os\n",
    "# import numpy as np\n",
    "# import math\n",
    "# import json\n",
    "# import torch\n",
    "# from tensorboardX import SummaryWriter\n",
    "# from torch import nn, optim\n",
    "# from tqdm import tqdm\n",
    "# import copy, time\n",
    "# from utils.util import save_model, get_number_of_parameters\n",
    "# from collections import defaultdict\n",
    "# from utils.util import loss_calculate\n",
    "# from utils.evaluate import evaluate\n",
    "# from utils.util import MyEncoder\n",
    "\n",
    "# def test_model(folder: str,\n",
    "#                   trainer,\n",
    "#                   model,\n",
    "#                   normal,\n",
    "#                   dataloaders,\n",
    "#                   device):\n",
    "\n",
    "#     save_path = os.path.join(folder, 'best_model.pkl')\n",
    "#     save_dict = torch.load(save_path)\n",
    "#     # model.load_state_dict(save_dict['model_state_dict'])\n",
    "\n",
    "#     # model.eval()\n",
    "#     steps, predictions, running_targets = 0, list(), list()\n",
    "#     tqdm_loader = tqdm(enumerate(dataloaders['test']))\n",
    "#     for step, (inputs, targets) in tqdm_loader:\n",
    "#         running_targets.append(targets.numpy())\n",
    "\n",
    "#         with torch.no_grad():\n",
    "#             inputs = inputs.to(device)\n",
    "#             targets = targets.to(device)\n",
    "#             outputs, loss = trainer.train(inputs, targets, 'test')\n",
    "#             predictions.append(outputs.cpu().numpy())\n",
    "\n",
    "#     running_targets, predictions = np.concatenate(running_targets, axis=0), np.concatenate(predictions, axis=0)\n",
    "# #     print(\"xx\", predictions)\n",
    "\n",
    "#     scores = evaluate(running_targets, predictions,normal)\n",
    "\n",
    "#     print('test results:')\n",
    "#     print(json.dumps(scores,cls=MyEncoder, indent=4))\n",
    "#     with open(os.path.join(folder, 'test-scores.json'), 'w+') as f:\n",
    "#         json.dump(scores, f,cls=MyEncoder, indent=4)\n",
    "#     if trainer.model.graph0 is not None:\n",
    "#         np.save(os.path.join(folder, 'graph0'),trainer.model.graph0.detach().cpu().numpy())\n",
    "#         np.save(os.path.join(folder, 'graph1'),trainer.model.graph1.detach().cpu().numpy())\n",
    "#         np.save(os.path.join(folder, 'graph2'),trainer.model.graph2.detach().cpu().numpy())\n",
    "\n",
    "#     np.savez(os.path.join(folder, 'test-results.npz'), predictions=predictions, targets=running_targets)\n"
   ]
  },
  {
   "cell_type": "code",
   "execution_count": 10,
   "metadata": {},
   "outputs": [
    {
     "name": "stderr",
     "output_type": "stream",
     "text": [
      "21it [00:01, 20.12it/s]\n"
     ]
    },
    {
     "name": "stdout",
     "output_type": "stream",
     "text": [
      "test results:\n",
      "{\n",
      "    \"MAE\": {\n",
      "        \"horizon-0\": 7.551253336162583,\n",
      "        \"horizon-1\": 7.996389692114992,\n",
      "        \"horizon-2\": 8.658520477697394,\n",
      "        \"horizon-3\": 9.474710027928557,\n",
      "        \"horizon-4\": 10.432249475860072,\n",
      "        \"horizon-5\": 11.378130167022558,\n",
      "        \"horizon-6\": 12.374610966163676,\n",
      "        \"horizon-7\": 13.356435267734145,\n",
      "        \"horizon-8\": 14.346359775760678,\n",
      "        \"horizon-9\": 15.28544093312896,\n",
      "        \"horizon-10\": 16.20248160102719,\n",
      "        \"horizon-11\": 17.133370209811034\n",
      "    },\n",
      "    \"RMSE\": {\n",
      "        \"horizon-0\": 15.756126779429646,\n",
      "        \"horizon-1\": 16.58594580258417,\n",
      "        \"horizon-2\": 17.48982996943608,\n",
      "        \"horizon-3\": 18.649533363343604,\n",
      "        \"horizon-4\": 19.977532538460537,\n",
      "        \"horizon-5\": 21.355691507261053,\n",
      "        \"horizon-6\": 22.76119275504853,\n",
      "        \"horizon-7\": 24.080624382449948,\n",
      "        \"horizon-8\": 25.455666241356067,\n",
      "        \"horizon-9\": 26.899228211763038,\n",
      "        \"horizon-10\": 28.428395839667164,\n",
      "        \"horizon-11\": 29.863275397759907\n",
      "    },\n",
      "    \"mape\": 0.3179931938648224,\n",
      "    \"loss\": 22.733440567101464,\n",
      "    \"mae\": 12.015829139847067\n",
      "}\n"
     ]
    }
   ],
   "source": [
    "test_model(folder=save_folder,\n",
    "                  trainer=trainer,\n",
    "                  model=model,\n",
    "                  normal=normal,\n",
    "                  dataloaders=data_loader,\n",
    "                  device=device)"
   ]
  },
  {
   "cell_type": "code",
   "execution_count": 11,
   "metadata": {},
   "outputs": [],
   "source": [
    "import pandas as pd\n",
    "import numpy as np\n",
    "a=pd.read_pickle('data/adj_data/adj_mx_taxi.pkl')"
   ]
  },
  {
   "cell_type": "code",
   "execution_count": 12,
   "metadata": {},
   "outputs": [
    {
     "name": "stderr",
     "output_type": "stream",
     "text": [
      "/home/lambda/anaconda3/lib/python3.7/site-packages/ipykernel_launcher.py:1: VisibleDeprecationWarning: Creating an ndarray from ragged nested sequences (which is a list-or-tuple of lists-or-tuples-or ndarrays with different lengths or shapes) is deprecated. If you meant to do this, you must specify 'dtype=object' when creating the ndarray.\n",
      "  \"\"\"Entry point for launching an IPython kernel.\n"
     ]
    }
   ],
   "source": [
    "a=np.array(a)\n"
   ]
  },
  {
   "cell_type": "code",
   "execution_count": 13,
   "metadata": {},
   "outputs": [
    {
     "name": "stdout",
     "output_type": "stream",
     "text": [
      "<class 'numpy.ndarray'>\n"
     ]
    }
   ],
   "source": [
    "print(type(a[2]))\n",
    "# # print(a[1])\n",
    "# print((a[1].items()))\n"
   ]
  },
  {
   "cell_type": "code",
   "execution_count": 14,
   "metadata": {},
   "outputs": [],
   "source": [
    "# 256*256"
   ]
  },
  {
   "cell_type": "code",
   "execution_count": 15,
   "metadata": {},
   "outputs": [
    {
     "name": "stdout",
     "output_type": "stream",
     "text": [
      "['__add__', '__class__', '__contains__', '__delattr__', '__dir__', '__doc__', '__eq__', '__format__', '__ge__', '__getattribute__', '__getitem__', '__getnewargs__', '__gt__', '__hash__', '__init__', '__init_subclass__', '__iter__', '__le__', '__len__', '__lt__', '__mod__', '__mul__', '__ne__', '__new__', '__reduce__', '__reduce_ex__', '__repr__', '__rmod__', '__rmul__', '__setattr__', '__sizeof__', '__str__', '__subclasshook__', 'capitalize', 'casefold', 'center', 'count', 'encode', 'endswith', 'expandtabs', 'find', 'format', 'format_map', 'index', 'isalnum', 'isalpha', 'isascii', 'isdecimal', 'isdigit', 'isidentifier', 'islower', 'isnumeric', 'isprintable', 'isspace', 'istitle', 'isupper', 'join', 'ljust', 'lower', 'lstrip', 'maketrans', 'partition', 'replace', 'rfind', 'rindex', 'rjust', 'rpartition', 'rsplit', 'rstrip', 'split', 'splitlines', 'startswith', 'strip', 'swapcase', 'title', 'translate', 'upper', 'zfill']\n"
     ]
    }
   ],
   "source": [
    "print(dir(data_set))"
   ]
  },
  {
   "cell_type": "code",
   "execution_count": 16,
   "metadata": {},
   "outputs": [],
   "source": [
    "xx=data_loader['test']"
   ]
  },
  {
   "cell_type": "code",
   "execution_count": 17,
   "metadata": {},
   "outputs": [
    {
     "name": "stdout",
     "output_type": "stream",
     "text": [
      "<class 'torch.utils.data.dataloader.DataLoader'>\n"
     ]
    }
   ],
   "source": [
    "print(type(xx))"
   ]
  },
  {
   "cell_type": "code",
   "execution_count": 18,
   "metadata": {},
   "outputs": [],
   "source": [
    "for i, batch in enumerate(xx):\n",
    "    aa=batch"
   ]
  },
  {
   "cell_type": "code",
   "execution_count": 19,
   "metadata": {},
   "outputs": [
    {
     "name": "stderr",
     "output_type": "stream",
     "text": [
      "/home/lambda/anaconda3/lib/python3.7/site-packages/ipykernel_launcher.py:1: FutureWarning: The input object of type 'Tensor' is an array-like implementing one of the corresponding protocols (`__array__`, `__array_interface__` or `__array_struct__`); but not a sequence (or 0-D). In the future, this object will be coerced as if it was first converted using `np.array(obj)`. To retain the old behaviour, you have to either modify the type 'Tensor', or assign to an empty array created with `np.empty(correct_shape, dtype=object)`.\n",
      "  \"\"\"Entry point for launching an IPython kernel.\n",
      "/home/lambda/anaconda3/lib/python3.7/site-packages/ipykernel_launcher.py:1: VisibleDeprecationWarning: Creating an ndarray from ragged nested sequences (which is a list-or-tuple of lists-or-tuples-or ndarrays with different lengths or shapes) is deprecated. If you meant to do this, you must specify 'dtype=object' when creating the ndarray.\n",
      "  \"\"\"Entry point for launching an IPython kernel.\n"
     ]
    }
   ],
   "source": [
    "aa=np.array(aa)"
   ]
  },
  {
   "cell_type": "code",
   "execution_count": 20,
   "metadata": {},
   "outputs": [
    {
     "name": "stdout",
     "output_type": "stream",
     "text": [
      "torch.Size([32, 12, 266, 2])\n"
     ]
    }
   ],
   "source": [
    "print(aa[0].shape)"
   ]
  },
  {
   "cell_type": "code",
   "execution_count": 21,
   "metadata": {},
   "outputs": [],
   "source": [
    "from tqdm import tqdm\n"
   ]
  },
  {
   "cell_type": "code",
   "execution_count": 22,
   "metadata": {},
   "outputs": [
    {
     "name": "stderr",
     "output_type": "stream",
     "text": [
      "21it [00:00, 190.90it/s]\n"
     ]
    }
   ],
   "source": [
    "tqdm_loader = tqdm(enumerate(data_loader['test']))\n",
    "for step, (inputs, targets) in tqdm_loader:\n",
    "#     print(step)\n",
    "    x=inputs \n",
    "    y=targets"
   ]
  },
  {
   "cell_type": "code",
   "execution_count": 23,
   "metadata": {},
   "outputs": [
    {
     "name": "stdout",
     "output_type": "stream",
     "text": [
      "torch.Size([12, 266, 2])\n",
      "torch.Size([12, 266, 2])\n",
      "tensor([2.1581, 4.9634]) tensor([-0.5677, -0.5942])\n"
     ]
    }
   ],
   "source": [
    "print(x[0].shape)\n",
    "print(y[0].shape)\n",
    "print(x[0][0][1], y[0][0][2])"
   ]
  },
  {
   "cell_type": "code",
   "execution_count": 24,
   "metadata": {},
   "outputs": [
    {
     "ename": "NameError",
     "evalue": "name 'A_to_edge_index' is not defined",
     "output_type": "error",
     "traceback": [
      "\u001b[0;31m---------------------------------------------------------------------------\u001b[0m",
      "\u001b[0;31mNameError\u001b[0m                                 Traceback (most recent call last)",
      "\u001b[0;32m<ipython-input-24-5ee948c51f3d>\u001b[0m in \u001b[0;36m<module>\u001b[0;34m\u001b[0m\n\u001b[1;32m      1\u001b[0m \u001b[0;31m# 7. convert the adj  matrix to adjacency list\u001b[0m\u001b[0;34m\u001b[0m\u001b[0;34m\u001b[0m\u001b[0;34m\u001b[0m\u001b[0m\n\u001b[0;32m----> 2\u001b[0;31m \u001b[0medge_list\u001b[0m\u001b[0;34m=\u001b[0m\u001b[0mA_to_edge_index\u001b[0m\u001b[0;34m(\u001b[0m\u001b[0madj2\u001b[0m\u001b[0;34m)\u001b[0m\u001b[0;34m\u001b[0m\u001b[0;34m\u001b[0m\u001b[0m\n\u001b[0m\u001b[1;32m      3\u001b[0m \u001b[0mprint\u001b[0m\u001b[0;34m(\u001b[0m\u001b[0medge_list\u001b[0m\u001b[0;34m)\u001b[0m\u001b[0;34m\u001b[0m\u001b[0;34m\u001b[0m\u001b[0m\n",
      "\u001b[0;31mNameError\u001b[0m: name 'A_to_edge_index' is not defined"
     ]
    }
   ],
   "source": [
    "# 7. convert the adj  matrix to adjacency list\n",
    "edge_list=A_to_edge_index(adj2)\n",
    "print(edge_list)"
   ]
  },
  {
   "cell_type": "code",
   "execution_count": null,
   "metadata": {},
   "outputs": [],
   "source": []
  }
 ],
 "metadata": {
  "kernelspec": {
   "display_name": "Python 3",
   "language": "python",
   "name": "python3"
  },
  "language_info": {
   "codemirror_mode": {
    "name": "ipython",
    "version": 3
   },
   "file_extension": ".py",
   "mimetype": "text/x-python",
   "name": "python",
   "nbconvert_exporter": "python",
   "pygments_lexer": "ipython3",
   "version": "3.7.6"
  }
 },
 "nbformat": 4,
 "nbformat_minor": 4
}
