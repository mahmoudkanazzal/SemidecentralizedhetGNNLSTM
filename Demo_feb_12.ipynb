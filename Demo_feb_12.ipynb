{
 "cells": [
  {
   "cell_type": "markdown",
   "metadata": {},
   "source": [
    "# Imports & dependencies"
   ]
  },
  {
   "cell_type": "code",
   "execution_count": 1,
   "metadata": {},
   "outputs": [],
   "source": [
    "import numpy as np\n",
    "import torch\n",
    "import torch.nn.functional as F\n",
    "import torch.nn as nn\n",
    "import torch_geometric.transforms as T\n",
    "from torch_geometric.nn import HeteroConv, GCNConv, SAGEConv, GATConv, Linear\n",
    "import torch.optim as optim\n",
    "# # resources:\n",
    "# 1.https://pytorch-geometric.readthedocs.io/en/2.0.0/notes/heterogeneous.html?highlight=HeteroGNN#using-the-heterogenous-convolution-wrapper \n",
    "# 2.https://levelup.gitconnected.com/forecasting-walmart-quarterly-revenue-pytorch-lstm-example-b4e4b20862a7"
   ]
  },
  {
   "cell_type": "code",
   "execution_count": 2,
   "metadata": {},
   "outputs": [],
   "source": [
    "import networkx as nx\n",
    "def A_to_edge_index(A):\n",
    "    G=nx.from_numpy_matrix(A)\n",
    "    edge_index=list(G.edges)\n",
    "    z=torch.tensor(np.transpose(edge_index))\n",
    "    return z"
   ]
  },
  {
   "cell_type": "markdown",
   "metadata": {},
   "source": [
    "# Reading the data"
   ]
  },
  {
   "cell_type": "code",
   "execution_count": 3,
   "metadata": {},
   "outputs": [
    {
     "name": "stderr",
     "output_type": "stream",
     "text": [
      "/home/lambda/anaconda3/lib/python3.7/site-packages/ipykernel_launcher.py:4: VisibleDeprecationWarning: Creating an ndarray from ragged nested sequences (which is a list-or-tuple of lists-or-tuples-or ndarrays with different lengths or shapes) is deprecated. If you meant to do this, you must specify 'dtype=object' when creating the ndarray.\n",
      "  after removing the cwd from sys.path.\n"
     ]
    }
   ],
   "source": [
    "import pandas as pd\n",
    "import numpy as np\n",
    "a=pd.read_pickle('data/adj_data/adj_mx_taxi.pkl')\n",
    "adj=np.array(a)\n",
    "\n",
    "# 1. load the data from the pytorch files:\n",
    "adj=torch.load('adj.pt')\n",
    "adj2=adj[2]\n",
    "# convert it to int\n",
    "adj2 = (np.ceil(adj2)).astype(int)\n",
    "adj1=adj[1]\n",
    "# convert it to int\n",
    "# adj1 = (np.ceil(adj1)).astype(int)\n",
    "\n",
    "x_train=torch.load('x_train.pt')\n",
    "y_train=torch.load('y_train.pt')\n",
    "x_test=torch.load('x_test.pt')\n",
    "y_test=torch.load('y_test.pt')"
   ]
  },
  {
   "cell_type": "code",
   "execution_count": 4,
   "metadata": {},
   "outputs": [
    {
     "name": "stdout",
     "output_type": "stream",
     "text": [
      "torch.Size([23940, 24])\n",
      "torch.Size([23940, 24])\n",
      "torch.Size([5320, 24])\n",
      "torch.Size([5320, 24])\n"
     ]
    }
   ],
   "source": [
    "# 2. load the saved 4 tesnors: input/output, training and testing\n",
    "xtrain=torch.load('xtrain.pt')\n",
    "ytrain=torch.load('ytrain.pt')\n",
    "xtest=torch.load('xtest.pt')\n",
    "ytest=torch.load('ytest.pt')\n",
    "# verbose\n",
    "print(xtrain.shape)\n",
    "print(ytrain.shape)\n",
    "print(xtest.shape)\n",
    "print(ytest.shape)"
   ]
  },
  {
   "cell_type": "code",
   "execution_count": 5,
   "metadata": {},
   "outputs": [],
   "source": [
    "# 3. convert the adj  matrix to adjacency list\n",
    "edge_list0=A_to_edge_index(adj2)\n",
    "edge_list2=A_to_edge_index(adj2)"
   ]
  },
  {
   "cell_type": "code",
   "execution_count": 6,
   "metadata": {},
   "outputs": [],
   "source": [
    "# Creating a Heterogeneous Graph\n",
    "from torch_geometric.data import HeteroData\n",
    "data = HeteroData()\n",
    "data['taxi'].x= xtest[0:266, :] \n",
    "data['taxi', 'near', 'taxi'].edge_index = edge_list0\n",
    "data['taxi', 'connected', 'taxi'].edge_index = edge_list2\n",
    "data['taxi', 'OD_similar', 'taxi'].edge_index = edge_list2\n",
    "temp=np.array([True])\n",
    "temp2=np.tile(temp, 266)\n",
    "data['taxi'].test_mask=torch.from_numpy(temp2)"
   ]
  },
  {
   "cell_type": "code",
   "execution_count": 7,
   "metadata": {},
   "outputs": [
    {
     "name": "stdout",
     "output_type": "stream",
     "text": [
      "HeteroData(\n",
      "  \u001b[1mtaxi\u001b[0m={\n",
      "    x=[266, 24],\n",
      "    test_mask=[266]\n",
      "  },\n",
      "  \u001b[1m(taxi, near, taxi)\u001b[0m={ edge_index=[2, 10064] },\n",
      "  \u001b[1m(taxi, connected, taxi)\u001b[0m={ edge_index=[2, 10064] },\n",
      "  \u001b[1m(taxi, OD_similar, taxi)\u001b[0m={ edge_index=[2, 10064] }\n",
      ")\n"
     ]
    }
   ],
   "source": [
    "print(data)"
   ]
  },
  {
   "cell_type": "code",
   "execution_count": 8,
   "metadata": {},
   "outputs": [
    {
     "name": "stdout",
     "output_type": "stream",
     "text": [
      "Node types: ['taxi']\n",
      "Edge types: [('taxi', 'near', 'taxi'), ('taxi', 'connected', 'taxi'), ('taxi', 'OD_similar', 'taxi')]\n"
     ]
    }
   ],
   "source": [
    "node_types, edge_types = data.metadata()\n",
    "print(\"Node types:\", node_types)\n",
    "print(\"Edge types:\", edge_types)"
   ]
  },
  {
   "cell_type": "markdown",
   "metadata": {},
   "source": [
    "# The GNN Model"
   ]
  },
  {
   "cell_type": "code",
   "execution_count": 9,
   "metadata": {},
   "outputs": [],
   "source": [
    "class HeteroGNN(torch.nn.Module):\n",
    "    def __init__(self, hidden_channels, out_channels, num_layers):\n",
    "        super().__init__()\n",
    "\n",
    "        self.convs = torch.nn.ModuleList()\n",
    "        for _ in range(num_layers):\n",
    "            conv = HeteroConv({\n",
    "                ('taxi', 'near', 'taxi'): GCNConv(-1, hidden_channels),\n",
    "                ('taxi', 'connected', 'taxi'): SAGEConv((-1, -1), hidden_channels),\n",
    "                ('taxi', 'OD_similar', 'taxi'): GATConv((-1, -1), hidden_channels),\n",
    "            }, aggr='sum')\n",
    "            self.convs.append(conv)\n",
    "\n",
    "        self.lin = Linear(hidden_channels, out_channels)\n",
    "\n",
    "    def forward(self, x_dict, edge_index_dict):\n",
    "        for conv in self.convs:\n",
    "            x_dict = conv(x_dict, edge_index_dict)\n",
    "            x_dict = {key: x.relu() for key, x in x_dict.items()}\n",
    "        return self.lin(x_dict['taxi'])\n",
    "\n"
   ]
  },
  {
   "cell_type": "code",
   "execution_count": 10,
   "metadata": {},
   "outputs": [
    {
     "name": "stdout",
     "output_type": "stream",
     "text": [
      "HeteroGNN(\n",
      "  (convs): ModuleList(\n",
      "    (0): HeteroConv(num_relations=3)\n",
      "    (1): HeteroConv(num_relations=3)\n",
      "  )\n",
      "  (lin): Linear(64, 24, bias=True)\n",
      ")\n",
      "torch.Size([266, 24])\n"
     ]
    }
   ],
   "source": [
    "Model_GNN = HeteroGNN(hidden_channels=64, out_channels=24,\n",
    "                  num_layers=2)\n",
    "\n",
    "print(Model_GNN)\n",
    "with torch.no_grad():  # Initialize lazy modules.\n",
    "     out = Model_GNN(data.x_dict, data.edge_index_dict)\n",
    "        \n",
    "print(out.shape)"
   ]
  },
  {
   "cell_type": "markdown",
   "metadata": {},
   "source": [
    "### The LSTM model"
   ]
  },
  {
   "cell_type": "code",
   "execution_count": 11,
   "metadata": {},
   "outputs": [],
   "source": [
    "class LSTM(nn.Module):\n",
    "    \"\"\"\n",
    "    input_size - will be 1 in this example since we have only 1 predictor (a sequence of previous values)\n",
    "    hidden_size - Can be chosen to dictate how much hidden \"long term memory\" the network will have\n",
    "    output_size - This will be equal to the prediciton_periods input to get_x_y_pairs\n",
    "    \"\"\"\n",
    "    def __init__(self, input_size, hidden_size, output_size):\n",
    "        super(LSTM, self).__init__()\n",
    "        self.hidden_size = hidden_size\n",
    "        \n",
    "        self.lstm = nn.LSTM(input_size, hidden_size)\n",
    "        \n",
    "        self.linear = nn.Linear(hidden_size, output_size)\n",
    "        \n",
    "    def forward(self, x, hidden=None):\n",
    "        if hidden==None:\n",
    "            self.hidden = (torch.zeros(1,1,self.hidden_size),\n",
    "                           torch.zeros(1,1,self.hidden_size))\n",
    "        else:\n",
    "            self.hidden = hidden\n",
    "            \n",
    "        \"\"\"\n",
    "        inputs need to be in the right shape as defined in documentation\n",
    "        - https://pytorch.org/docs/stable/generated/torch.nn.LSTM.html\n",
    "        \n",
    "        lstm_out - will contain the hidden states from all times in the sequence\n",
    "        self.hidden - will contain the current hidden state and cell state\n",
    "        \"\"\"\n",
    "        lstm_out, self.hidden = self.lstm(x.view(len(x),1,-1), \n",
    "                                          self.hidden)\n",
    "        \n",
    "        predictions = self.linear(lstm_out.view(len(x), -1))\n",
    "        \n",
    "        return predictions[-1], self.hidden"
   ]
  },
  {
   "cell_type": "code",
   "execution_count": 12,
   "metadata": {},
   "outputs": [],
   "source": [
    "model_LSTM = LSTM(input_size=1, hidden_size=50, output_size=8)\n",
    "# criterion = nn.MSELoss()\n",
    "# optimizer = optim.Adam(model_LSTM.parameters(), lr=0.001)"
   ]
  },
  {
   "cell_type": "code",
   "execution_count": null,
   "metadata": {},
   "outputs": [],
   "source": []
  }
 ],
 "metadata": {
  "kernelspec": {
   "display_name": "Python 3",
   "language": "python",
   "name": "python3"
  },
  "language_info": {
   "codemirror_mode": {
    "name": "ipython",
    "version": 3
   },
   "file_extension": ".py",
   "mimetype": "text/x-python",
   "name": "python",
   "nbconvert_exporter": "python",
   "pygments_lexer": "ipython3",
   "version": "3.7.6"
  }
 },
 "nbformat": 4,
 "nbformat_minor": 4
}
