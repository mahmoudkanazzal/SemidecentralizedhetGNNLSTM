{
 "cells": [
  {
   "cell_type": "markdown",
   "metadata": {},
   "source": [
    "# Imports"
   ]
  },
  {
   "cell_type": "code",
   "execution_count": 1,
   "metadata": {},
   "outputs": [],
   "source": [
    "import json,os,shutil,yaml,torch\n",
    "import torch.nn as nn\n",
    "from models import create_model\n",
    "from utils.util import get_optimizer, get_loss, get_scheduler\n",
    "from utils.data_container import get_data_loader\n",
    "from utils.preprocess import preprocessing_for_metric\n",
    "from utils.train import train_model, test_model"
   ]
  },
  {
   "cell_type": "code",
   "execution_count": 2,
   "metadata": {},
   "outputs": [],
   "source": [
    "import torch\n",
    "import torch.nn.functional as F\n",
    "from torch_geometric.nn import GCNConv\n",
    "\n",
    "class GCN(torch.nn.Module):\n",
    "    def __init__(self):\n",
    "        super().__init__()\n",
    "        self.conv1 = GCNConv(2, 16)\n",
    "        self.conv2 = GCNConv(16, 2)\n",
    "\n",
    "    def forward(self, data):\n",
    "        x, edge_index = data.x, data.edge_index\n",
    "\n",
    "        x = self.conv1(x, edge_index)\n",
    "        x = F.relu(x)\n",
    "        x = F.dropout(x, training=self.training)\n",
    "        x = self.conv2(x, edge_index)\n",
    "\n",
    "        return F.log_softmax(x, dim=1)"
   ]
  },
  {
   "cell_type": "code",
   "execution_count": 3,
   "metadata": {},
   "outputs": [
    {
     "name": "stdout",
     "output_type": "stream",
     "text": [
      "{\n",
      "    \"name\": \"Evoconv2\",\n",
      "    \"tag\": \"train1\",\n",
      "    \"device\": 0,\n",
      "    \"data\": {\n",
      "        \"dataset\": \"nogrid\",\n",
      "        \"batch_size\": 32,\n",
      "        \"X_list\": [\n",
      "            12,\n",
      "            11,\n",
      "            10,\n",
      "            9,\n",
      "            8,\n",
      "            7,\n",
      "            6,\n",
      "            5,\n",
      "            4,\n",
      "            3,\n",
      "            2,\n",
      "            1\n",
      "        ],\n",
      "        \"Y_list\": [\n",
      "            0,\n",
      "            1,\n",
      "            2,\n",
      "            3,\n",
      "            4,\n",
      "            5,\n",
      "            6,\n",
      "            7,\n",
      "            8,\n",
      "            9,\n",
      "            10,\n",
      "            11\n",
      "        ],\n",
      "        \"_len\": [\n",
      "            672,\n",
      "            672\n",
      "        ],\n",
      "        \"Normal_Method\": \"Standard\"\n",
      "    },\n",
      "    \"preprocess\": {\n",
      "        \"hidden_size\": 20,\n",
      "        \"normalized_category\": \"randomwalk\"\n",
      "    },\n",
      "    \"train\": {\n",
      "        \"epochs\": 3,\n",
      "        \"max_grad_norm\": 5,\n",
      "        \"early_stop_steps\": 10\n",
      "    },\n",
      "    \"optimizer\": {\n",
      "        \"name\": \"Adam\",\n",
      "        \"Adam\": {\n",
      "            \"lr\": 0.0005,\n",
      "            \"weight_decay\": 0.0005,\n",
      "            \"eps\": 0.001,\n",
      "            \"amsgrad\": true\n",
      "        },\n",
      "        \"RMSprop\": {\n",
      "            \"lr\": 0.01,\n",
      "            \"weight_decay\": 0.001\n",
      "        }\n",
      "    },\n",
      "    \"loss\": {\n",
      "        \"name\": \"rmse\"\n",
      "    },\n",
      "    \"model\": {\n",
      "        \"name\": \"Evonet2\",\n",
      "        \"Evonet2\": {\n",
      "            \"n_pred\": 12,\n",
      "            \"hidden_size\": 25,\n",
      "            \"num_nodes\": 266,\n",
      "            \"n_dim\": 50,\n",
      "            \"n_supports\": 1,\n",
      "            \"k_hop\": 3,\n",
      "            \"n_rnn_layers\": 1,\n",
      "            \"n_gconv_layers\": 3,\n",
      "            \"input_dim\": 2,\n",
      "            \"output_dim\": 2,\n",
      "            \"cl_decay_steps\": 300\n",
      "        }\n",
      "    },\n",
      "    \"scheduler\": {\n",
      "        \"name\": \"ReduceLROnPlateau\",\n",
      "        \"ReduceLROnPlateau\": {\n",
      "            \"factor\": 0.2,\n",
      "            \"patience\": 5,\n",
      "            \"threshold\": 0.001,\n",
      "            \"min_lr\": 1e-06\n",
      "        },\n",
      "        \"StepLR\": {\n",
      "            \"step_size\": 10,\n",
      "            \"gamma\": 0.1\n",
      "        },\n",
      "        \"MultiStepLR\": {\n",
      "            \"milestones\": [\n",
      "                1,\n",
      "                5,\n",
      "                10,\n",
      "                15,\n",
      "                20\n",
      "            ],\n",
      "            \"gamma\": 0.1\n",
      "        }\n",
      "    }\n",
      "}\n",
      "aaaa cuda:0\n",
      "std: 37.78643496676519 mean: 26.451628298080365\n",
      "\n",
      "std: 37.78643496676519 mean: 26.451628298080365\n"
     ]
    }
   ],
   "source": [
    "con = 'evoconv2-config'\n",
    "# data \n",
    "with open(os.path.join('config', f'{con}.yaml')) as f:\n",
    "    conf = yaml.safe_load(f)\n",
    "data_category=['taxi']\n",
    "\n",
    "print(json.dumps(conf, indent=4))\n",
    "\n",
    "os.environ[\"CUDA_VISIBLE_DEVICES\"] = str(conf['device'])\n",
    "device = torch.device(0)\n",
    "\n",
    "model_name = conf['model']['name']\n",
    "optimizer_name = conf['optimizer']['name']\n",
    "data_set = conf['data']['dataset']\n",
    "scheduler_name = conf['scheduler']['name']\n",
    "loss = get_loss(**conf['loss'])\n",
    "print(\"aaaa\", device)\n",
    "\n",
    "loss.to(device)\n",
    "\n",
    "\n",
    "support = preprocessing_for_metric(data_category=data_category, dataset=conf['data']['dataset'],\n",
    "                                       Normal_Method=conf['data']['Normal_Method'], _len=conf['data']['_len'], **conf['preprocess'])\n",
    "\n",
    "save_folder = os.path.join('save', conf['name'], f'{data_set}_{\"\".join(data_category)}', conf['tag'])\n",
    "run_folder = os.path.join('run', conf['name'], f'{data_set}_{\"\".join(data_category)}', conf['tag'])\n",
    "\n",
    "shutil.rmtree(save_folder, ignore_errors=True)\n",
    "os.makedirs(save_folder)\n",
    "shutil.rmtree(run_folder, ignore_errors=True)\n",
    "os.makedirs(run_folder)\n",
    "\n",
    "with open(os.path.join(save_folder, 'config.yaml'), 'w+') as _f:\n",
    "    yaml.safe_dump(conf, _f)\n",
    "\n",
    "data_loader, normal = get_data_loader(**conf['data'], data_category=data_category, device=device,\n",
    "                                      model_name=model_name)\n",
    "\n",
    "\n",
    "\n"
   ]
  },
  {
   "cell_type": "code",
   "execution_count": null,
   "metadata": {},
   "outputs": [],
   "source": [
    "# data.metadata="
   ]
  },
  {
   "cell_type": "code",
   "execution_count": null,
   "metadata": {},
   "outputs": [],
   "source": [
    "### # model = HeteroGNN(data.metadata(), hidden_channels=64, out_channels=2,\n",
    "# #                   num_layers=2)\n",
    "# # dataset=data_loader\n",
    "# # dataset.num_node_features=2\n",
    "# model=GCN()"
   ]
  },
  {
   "cell_type": "code",
   "execution_count": null,
   "metadata": {},
   "outputs": [],
   "source": [
    "# dataset.update({\"num_node_features\": 2})\n",
    "# print(dataset)\n",
    "# # print(dataset.num_node_features)"
   ]
  },
  {
   "cell_type": "code",
   "execution_count": null,
   "metadata": {},
   "outputs": [],
   "source": [
    "# def create_model(model_name, loss, conf, data_category, device,  support=None):\n",
    "# #     if model_name == 'Evonet2':\n",
    "#     model = GraphConv_(**conf, support=torch.from_numpy(support).float(), device=device)\n",
    "#     for name, parameters in model.named_parameters():\n",
    "#         print(name, ':', parameters.size())\n",
    "#     return model, MetricNNTrainer(model, loss)"
   ]
  },
  {
   "cell_type": "code",
   "execution_count": null,
   "metadata": {},
   "outputs": [],
   "source": [
    "# from typing import Tuple\n",
    "# from .evonn2 import EvoNN2\n",
    "# import torch\n",
    "# from torch import nn, Tensor\n",
    "\n",
    "\n",
    "\n",
    "# def create_model(model_name, loss, conf, data_category, device,  support=None):\n",
    "#     if model_name == 'Evonet2':\n",
    "# #         model = EvoNN2(**conf, support=torch.from_numpy(support).float(), device=device)\n",
    "#         model=GraphConv_(**conf, support=torch.from_numpy(support).float(), device=device)\n",
    "#         for name, parameters in model.named_parameters():\n",
    "#             print(name, ':', parameters.size())\n",
    "#         return model, MetricNNTrainer(model, loss)\n",
    "\n",
    "\n",
    "\n",
    "\n",
    "# class Trainer:\n",
    "#     def __init__(self, model: nn.Module, loss):\n",
    "#         self.model = model\n",
    "#         self.loss = loss\n",
    "\n",
    "#     def train(self, inputs: Tensor, targets: Tensor, phase: str) -> Tuple[Tensor, Tensor]:\n",
    "#         raise ValueError('Not implemented.')\n",
    "\n",
    "\n",
    "# class MetricNNTrainer(Trainer):\n",
    "#     def __init__(self, model, loss):\n",
    "#         super(MetricNNTrainer, self).__init__(model, loss)\n",
    "#         self.train_batch_seen: int = 0\n",
    "\n",
    "#     def train(self, inputs: Tensor, targets: Tensor, phase: str):\n",
    "#         if phase == 'train':\n",
    "#             self.train_batch_seen += 1\n",
    "#         i_targets = targets if phase == 'train' else None\n",
    "#         outputs, graph = self.model(inputs, i_targets, self.train_batch_seen)\n",
    "#         loss = self.loss(outputs, targets, graph)\n",
    "#         # loss = self.loss(outputs, targets)\n",
    "#         return outputs, loss\n",
    "\n"
   ]
  },
  {
   "cell_type": "code",
   "execution_count": null,
   "metadata": {},
   "outputs": [],
   "source": [
    "model, trainer = create_model(model_name,\n",
    "                                  loss,\n",
    "                                  conf['model'][model_name],\n",
    "                                  data_category,\n",
    "                                  device,\n",
    "                                  support)\n",
    "\n",
    "optimizer = get_optimizer(optimizer_name, model.parameters(), conf['optimizer'][optimizer_name]['lr'])\n",
    "scheduler = get_scheduler(scheduler_name, optimizer, **conf['scheduler'][scheduler_name])\n",
    "if torch.cuda.device_count() > 1:\n",
    "    print(\"use \", torch.cuda.device_count(), \"GPUS\")\n",
    "    model = nn.DataParallel(model)\n",
    "else:\n",
    "    model.to(device)"
   ]
  },
  {
   "cell_type": "code",
   "execution_count": null,
   "metadata": {},
   "outputs": [],
   "source": [
    "train_model(model=model,\n",
    "                   dataloaders=data_loader,\n",
    "                   trainer=trainer,\n",
    "                   optimizer=optimizer,\n",
    "                   normal=normal,\n",
    "                   scheduler=scheduler,\n",
    "                   folder=save_folder,\n",
    "                   tensorboard_folder=run_folder,\n",
    "                   device=device,\n",
    "                   **conf['train'])\n"
   ]
  },
  {
   "cell_type": "code",
   "execution_count": null,
   "metadata": {},
   "outputs": [],
   "source": [
    "test_model(folder=save_folder,\n",
    "                  trainer=trainer,\n",
    "                  model=model,\n",
    "                  normal=normal,\n",
    "                  dataloaders=data_loader,\n",
    "                  device=device)"
   ]
  },
  {
   "cell_type": "code",
   "execution_count": null,
   "metadata": {},
   "outputs": [],
   "source": []
  },
  {
   "cell_type": "code",
   "execution_count": null,
   "metadata": {},
   "outputs": [],
   "source": []
  },
  {
   "cell_type": "code",
   "execution_count": null,
   "metadata": {},
   "outputs": [],
   "source": [
    "def train(conf, data_category):\n",
    "    print(json.dumps(conf, indent=4))\n",
    "\n",
    "    os.environ[\"CUDA_VISIBLE_DEVICES\"] = str(conf['device'])\n",
    "    device = torch.device(0)\n",
    "\n",
    "    model_name = conf['model']['name']\n",
    "    optimizer_name = conf['optimizer']['name']\n",
    "    data_set = conf['data']['dataset']\n",
    "    scheduler_name = conf['scheduler']['name']\n",
    "    loss = get_loss(**conf['loss'])\n",
    "    print(\"aaaa\", device)\n",
    "\n",
    "    loss.to(device)\n",
    "\n",
    "\n",
    "    support = preprocessing_for_metric(data_category=data_category, dataset=conf['data']['dataset'],\n",
    "                                           Normal_Method=conf['data']['Normal_Method'], _len=conf['data']['_len'], **conf['preprocess'])\n",
    "    model, trainer = create_model(model_name,\n",
    "                                  loss,\n",
    "                                  conf['model'][model_name],\n",
    "                                  data_category,\n",
    "                                  device,\n",
    "                                  support)\n",
    "\n",
    "    optimizer = get_optimizer(optimizer_name, model.parameters(), conf['optimizer'][optimizer_name]['lr'])\n",
    "    scheduler = get_scheduler(scheduler_name, optimizer, **conf['scheduler'][scheduler_name])\n",
    "    if torch.cuda.device_count() > 1:\n",
    "        print(\"use \", torch.cuda.device_count(), \"GPUS\")\n",
    "        model = nn.DataParallel(model)\n",
    "    else:\n",
    "        model.to(device)\n",
    "\n",
    "    save_folder = os.path.join('save', conf['name'], f'{data_set}_{\"\".join(data_category)}', conf['tag'])\n",
    "    run_folder = os.path.join('run', conf['name'], f'{data_set}_{\"\".join(data_category)}', conf['tag'])\n",
    "\n",
    "    shutil.rmtree(save_folder, ignore_errors=True)\n",
    "    os.makedirs(save_folder)\n",
    "    shutil.rmtree(run_folder, ignore_errors=True)\n",
    "    os.makedirs(run_folder)\n",
    "\n",
    "    with open(os.path.join(save_folder, 'config.yaml'), 'w+') as _f:\n",
    "        yaml.safe_dump(conf, _f)\n",
    "\n",
    "    data_loader, normal = get_data_loader(**conf['data'], data_category=data_category, device=device,\n",
    "                                          model_name=model_name)\n",
    "\n",
    "\n",
    "    train_model(model=model,\n",
    "                       dataloaders=data_loader,\n",
    "                       trainer=trainer,\n",
    "                       optimizer=optimizer,\n",
    "                       normal=normal,\n",
    "                       scheduler=scheduler,\n",
    "                       folder=save_folder,\n",
    "                       tensorboard_folder=run_folder,\n",
    "                       device=device,\n",
    "                       **conf['train'])\n",
    "    test_model(folder=save_folder,\n",
    "                      trainer=trainer,\n",
    "                      model=model,\n",
    "                      normal=normal,\n",
    "                      dataloaders=data_loader,\n",
    "                      device=device)\n"
   ]
  },
  {
   "cell_type": "code",
   "execution_count": null,
   "metadata": {},
   "outputs": [],
   "source": [
    "# print(conf['taxi'])"
   ]
  },
  {
   "cell_type": "code",
   "execution_count": null,
   "metadata": {},
   "outputs": [],
   "source": [
    "con = 'evoconv2-config'\n",
    "data = ['bike']\n",
    "with open(os.path.join('config', f'{con}.yaml')) as f:\n",
    "    conf = yaml.safe_load(f)\n",
    "# train(conf, data)"
   ]
  },
  {
   "cell_type": "code",
   "execution_count": null,
   "metadata": {},
   "outputs": [],
   "source": [
    "# conf\n",
    "data_category=['taxi']\n",
    "\n",
    "os.environ[\"CUDA_VISIBLE_DEVICES\"] = str(conf['device'])\n",
    "device = torch.device(0)\n",
    "\n",
    "model_name = conf['model']['name']\n",
    "optimizer_name = conf['optimizer']['name']\n",
    "data_set = conf['data']['dataset']\n",
    "scheduler_name = conf['scheduler']['name']\n",
    "loss = get_loss(**conf['loss'])\n",
    "print(\"aaaa\", device)\n",
    "\n",
    "loss.to(device)\n",
    "\n",
    "\n",
    "support = preprocessing_for_metric(data_category=data_category, dataset=conf['data']['dataset'],\n",
    "                                       Normal_Method=conf['data']['Normal_Method'], _len=conf['data']['_len'], **conf['preprocess'])\n",
    "model, trainer = create_model(model_name,\n",
    "                              loss,\n",
    "                              conf['model'][model_name],\n",
    "                              data_category,\n",
    "                              device,\n",
    "                              support)\n",
    "\n",
    "optimizer = get_optimizer(optimizer_name, model.parameters(), conf['optimizer'][optimizer_name]['lr'])\n",
    "scheduler = get_scheduler(scheduler_name, optimizer, **conf['scheduler'][scheduler_name])\n",
    "if torch.cuda.device_count() > 1:\n",
    "    print(\"use \", torch.cuda.device_count(), \"GPUS\")\n",
    "    model = nn.DataParallel(model)\n",
    "else:\n",
    "    model.to(device)\n",
    "\n",
    "save_folder = os.path.join('save', conf['name'], f'{data_set}_{\"\".join(data_category)}', conf['tag'])\n",
    "run_folder = os.path.join('run', conf['name'], f'{data_set}_{\"\".join(data_category)}', conf['tag'])\n",
    "\n",
    "shutil.rmtree(save_folder, ignore_errors=True)\n",
    "os.makedirs(save_folder)\n",
    "shutil.rmtree(run_folder, ignore_errors=True)\n",
    "os.makedirs(run_folder)\n",
    "\n",
    "with open(os.path.join(save_folder, 'config.yaml'), 'w+') as _f:\n",
    "    yaml.safe_dump(conf, _f)\n",
    "\n",
    "data_loader, normal = get_data_loader(**conf['data'], data_category=data_category, device=device,\n",
    "                                      model_name=model_name)\n",
    "\n",
    "\n",
    "\n",
    "\n"
   ]
  },
  {
   "cell_type": "code",
   "execution_count": null,
   "metadata": {},
   "outputs": [],
   "source": [
    "# print(data_loader)"
   ]
  },
  {
   "cell_type": "code",
   "execution_count": null,
   "metadata": {},
   "outputs": [],
   "source": [
    "# print(data_loader)"
   ]
  },
  {
   "cell_type": "code",
   "execution_count": null,
   "metadata": {},
   "outputs": [],
   "source": [
    "train_model(model=model,\n",
    "                   dataloaders=data_loader,\n",
    "                   trainer=trainer,\n",
    "                   optimizer=optimizer,\n",
    "                   normal=normal,\n",
    "                   scheduler=scheduler,\n",
    "                   folder=save_folder,\n",
    "                   tensorboard_folder=run_folder,\n",
    "                   device=device,\n",
    "                   **conf['train'])"
   ]
  },
  {
   "cell_type": "code",
   "execution_count": null,
   "metadata": {},
   "outputs": [],
   "source": [
    "# import os\n",
    "# import numpy as np\n",
    "# import math\n",
    "# import json\n",
    "# import torch\n",
    "# from tensorboardX import SummaryWriter\n",
    "# from torch import nn, optim\n",
    "# from tqdm import tqdm\n",
    "# import copy, time\n",
    "# from utils.util import save_model, get_number_of_parameters\n",
    "# from collections import defaultdict\n",
    "# from utils.util import loss_calculate\n",
    "# from utils.evaluate import evaluate\n",
    "# from utils.util import MyEncoder\n",
    "\n",
    "# def test_model(folder: str,\n",
    "#                   trainer,\n",
    "#                   model,\n",
    "#                   normal,\n",
    "#                   dataloaders,\n",
    "#                   device):\n",
    "\n",
    "#     save_path = os.path.join(folder, 'best_model.pkl')\n",
    "#     save_dict = torch.load(save_path)\n",
    "#     # model.load_state_dict(save_dict['model_state_dict'])\n",
    "\n",
    "#     # model.eval()\n",
    "#     steps, predictions, running_targets = 0, list(), list()\n",
    "#     tqdm_loader = tqdm(enumerate(dataloaders['test']))\n",
    "#     for step, (inputs, targets) in tqdm_loader:\n",
    "#         running_targets.append(targets.numpy())\n",
    "\n",
    "#         with torch.no_grad():\n",
    "#             inputs = inputs.to(device)\n",
    "#             targets = targets.to(device)\n",
    "#             outputs, loss = trainer.train(inputs, targets, 'test')\n",
    "#             predictions.append(outputs.cpu().numpy())\n",
    "\n",
    "#     running_targets, predictions = np.concatenate(running_targets, axis=0), np.concatenate(predictions, axis=0)\n",
    "# #     print(\"xx\", predictions)\n",
    "\n",
    "#     scores = evaluate(running_targets, predictions,normal)\n",
    "\n",
    "#     print('test results:')\n",
    "#     print(json.dumps(scores,cls=MyEncoder, indent=4))\n",
    "#     with open(os.path.join(folder, 'test-scores.json'), 'w+') as f:\n",
    "#         json.dump(scores, f,cls=MyEncoder, indent=4)\n",
    "#     if trainer.model.graph0 is not None:\n",
    "#         np.save(os.path.join(folder, 'graph0'),trainer.model.graph0.detach().cpu().numpy())\n",
    "#         np.save(os.path.join(folder, 'graph1'),trainer.model.graph1.detach().cpu().numpy())\n",
    "#         np.save(os.path.join(folder, 'graph2'),trainer.model.graph2.detach().cpu().numpy())\n",
    "\n",
    "#     np.savez(os.path.join(folder, 'test-results.npz'), predictions=predictions, targets=running_targets)\n"
   ]
  },
  {
   "cell_type": "code",
   "execution_count": null,
   "metadata": {},
   "outputs": [],
   "source": [
    "test_model(folder=save_folder,\n",
    "                  trainer=trainer,\n",
    "                  model=model,\n",
    "                  normal=normal,\n",
    "                  dataloaders=data_loader,\n",
    "                  device=device)"
   ]
  },
  {
   "cell_type": "code",
   "execution_count": null,
   "metadata": {},
   "outputs": [],
   "source": [
    "import pandas as pd\n",
    "import numpy as np\n",
    "a=pd.read_pickle('data/adj_data/adj_mx_taxi.pkl')"
   ]
  },
  {
   "cell_type": "code",
   "execution_count": null,
   "metadata": {},
   "outputs": [],
   "source": [
    "adj=np.array(a)\n"
   ]
  },
  {
   "cell_type": "code",
   "execution_count": null,
   "metadata": {},
   "outputs": [],
   "source": [
    "torch.save(adj, 'adj.pt')"
   ]
  },
  {
   "cell_type": "code",
   "execution_count": null,
   "metadata": {},
   "outputs": [],
   "source": [
    "import numpy as np"
   ]
  },
  {
   "cell_type": "code",
   "execution_count": null,
   "metadata": {},
   "outputs": [],
   "source": [
    "print(dir(data_set))"
   ]
  },
  {
   "cell_type": "code",
   "execution_count": null,
   "metadata": {},
   "outputs": [],
   "source": [
    "xx=data_loader['test']"
   ]
  },
  {
   "cell_type": "code",
   "execution_count": null,
   "metadata": {},
   "outputs": [],
   "source": [
    "print(type(xx))"
   ]
  },
  {
   "cell_type": "code",
   "execution_count": null,
   "metadata": {},
   "outputs": [],
   "source": [
    "for i, batch in enumerate(xx):\n",
    "    aa=batch"
   ]
  },
  {
   "cell_type": "code",
   "execution_count": null,
   "metadata": {},
   "outputs": [],
   "source": [
    "aa=np.array(aa)"
   ]
  },
  {
   "cell_type": "code",
   "execution_count": null,
   "metadata": {},
   "outputs": [],
   "source": []
  },
  {
   "cell_type": "code",
   "execution_count": null,
   "metadata": {},
   "outputs": [],
   "source": [
    "print(aa[0].shape)"
   ]
  },
  {
   "cell_type": "code",
   "execution_count": null,
   "metadata": {},
   "outputs": [],
   "source": [
    "from tqdm import tqdm\n"
   ]
  },
  {
   "cell_type": "code",
   "execution_count": null,
   "metadata": {
    "scrolled": true
   },
   "outputs": [],
   "source": [
    "tqdm_loader = tqdm(enumerate(data_loader['train']))\n",
    "x_train=[]\n",
    "y_train=[]\n",
    "for step, (inputs, targets) in tqdm_loader:\n",
    "#     print(step)\n",
    "    x_train.append(inputs) \n",
    "    y_train.append(targets)\n",
    "    \n",
    "    \n",
    "    "
   ]
  },
  {
   "cell_type": "code",
   "execution_count": null,
   "metadata": {},
   "outputs": [],
   "source": [
    "tqdm_loader = tqdm(enumerate(data_loader['test']))\n",
    "x_test=[]\n",
    "y_test=[]\n",
    "for step, (inputs, targets) in tqdm_loader:\n",
    "#     print(step)\n",
    "    x_test.append(inputs) \n",
    "    y_test.append(targets)"
   ]
  },
  {
   "cell_type": "code",
   "execution_count": null,
   "metadata": {},
   "outputs": [],
   "source": [
    "print(x[92].shape)\n",
    "# print(y)\n",
    "# print(x[0][0][1], y[0][0][2])"
   ]
  },
  {
   "cell_type": "code",
   "execution_count": null,
   "metadata": {},
   "outputs": [],
   "source": [
    "torch.save(x_train, 'x_train.pt')\n",
    "torch.save(y_train, 'y_train.pt')\n",
    "torch.save(x_test, 'x_test.pt')\n",
    "torch.save(y_test, 'y_test.pt')"
   ]
  },
  {
   "cell_type": "code",
   "execution_count": null,
   "metadata": {},
   "outputs": [],
   "source": []
  }
 ],
 "metadata": {
  "kernelspec": {
   "display_name": "Python 3",
   "language": "python",
   "name": "python3"
  },
  "language_info": {
   "codemirror_mode": {
    "name": "ipython",
    "version": 3
   },
   "file_extension": ".py",
   "mimetype": "text/x-python",
   "name": "python",
   "nbconvert_exporter": "python",
   "pygments_lexer": "ipython3",
   "version": "3.7.6"
  }
 },
 "nbformat": 4,
 "nbformat_minor": 4
}
