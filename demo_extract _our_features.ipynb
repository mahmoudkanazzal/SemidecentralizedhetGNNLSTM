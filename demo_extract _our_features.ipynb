{
 "cells": [
  {
   "cell_type": "markdown",
   "metadata": {},
   "source": [
    "# Imports & dependencies"
   ]
  },
  {
   "cell_type": "code",
   "execution_count": 1,
   "metadata": {},
   "outputs": [],
   "source": [
    "# Reading all_grpahs gives the same results in the adjacency matrices of the taxi\n",
    "# what is meant by trans_tt, pcc_tt, and dis_tt????\n",
    "# Those are taxt-taxt adjacencey matrices, but what do they mean exactly?"
   ]
  },
  {
   "cell_type": "code",
   "execution_count": 2,
   "metadata": {},
   "outputs": [
    {
     "name": "stdout",
     "output_type": "stream",
     "text": [
      "['taxi_drop', 'taxi_pick']\n"
     ]
    }
   ],
   "source": [
    "import torch\n",
    "import numpy as np\n",
    "import h5py\n",
    "f1 = h5py.File('taxi_data.h5', 'r')\n",
    "print(list(f1.keys()))"
   ]
  },
  {
   "cell_type": "code",
   "execution_count": 3,
   "metadata": {},
   "outputs": [],
   "source": [
    "with h5py.File('taxi_data.h5', 'r') as hf:\n",
    "    data_d = hf['taxi_pick'][:]\n",
    "    data_s = hf['taxi_drop'][:]\n",
    "    \n",
    "data_d=np.array(data_d, dtype=int) \n",
    "data_s=np.array(data_s, dtype=int) "
   ]
  },
  {
   "cell_type": "code",
   "execution_count": 4,
   "metadata": {},
   "outputs": [
    {
     "name": "stdout",
     "output_type": "stream",
     "text": [
      "(4368, 266)\n",
      "(4368, 266)\n"
     ]
    }
   ],
   "source": [
    "print(data_d.shape)\n",
    "print(data_s.shape)"
   ]
  },
  {
   "cell_type": "code",
   "execution_count": 5,
   "metadata": {},
   "outputs": [
    {
     "name": "stdout",
     "output_type": "stream",
     "text": [
      "182.0\n",
      "216\n"
     ]
    }
   ],
   "source": [
    "print(4368/24)\n",
    "print(24*9)"
   ]
  },
  {
   "cell_type": "code",
   "execution_count": 6,
   "metadata": {},
   "outputs": [],
   "source": [
    "# extract training and testing arrays"
   ]
  },
  {
   "cell_type": "code",
   "execution_count": 7,
   "metadata": {},
   "outputs": [
    {
     "name": "stdout",
     "output_type": "stream",
     "text": [
      "(12,)\n",
      "<class 'numpy.ndarray'>\n"
     ]
    }
   ],
   "source": [
    "import numpy as np\n",
    "add_indices = np.arange(4368/2)\n",
    "chunks = np.array(np.array_split(add_indices, 4368/12/2), dtype=int)\n",
    "print(chunks[0].shape)\n",
    "\n",
    "chunks2=chunks+4368/2\n",
    "chunks2=np.array(chunks2, dtype=int)\n",
    "print(type(chunks2))\n",
    "# print(newarr[0])\n",
    "# print(newarr[1]) \n",
    "# print(newarr[2])"
   ]
  },
  {
   "cell_type": "code",
   "execution_count": 8,
   "metadata": {},
   "outputs": [],
   "source": [
    "X_train=np.zeros((266,24,180))\n",
    "X_test=np.zeros((266,24,180))\n",
    "for jj in np.arange(180):\n",
    "    for i in np.arange(266):\n",
    "        dem_i=data_d[:,i]\n",
    "        sup_i=data_s[:,i]\n",
    "        X_train[i,:, jj]=np.concatenate((dem_i[chunks[jj]], sup_i[chunks[jj]]))\n",
    "        X_test[i,:, jj]=np.concatenate((dem_i[chunks2[jj]], sup_i[chunks2[jj]]))\n",
    "\n",
    "#         print(dem_i.shape)\n",
    "#     print(i)"
   ]
  },
  {
   "cell_type": "code",
   "execution_count": 9,
   "metadata": {},
   "outputs": [
    {
     "name": "stdout",
     "output_type": "stream",
     "text": [
      "(266, 24, 180)\n",
      "(266, 24, 180)\n"
     ]
    }
   ],
   "source": [
    "# X_train[node number, 24 featues (dem+sup), batch index out of 180]\n",
    "print(X_train.shape)\n",
    "print(X_test.shape)"
   ]
  },
  {
   "cell_type": "code",
   "execution_count": 10,
   "metadata": {},
   "outputs": [
    {
     "name": "stderr",
     "output_type": "stream",
     "text": [
      "/home/lambda/anaconda3/lib/python3.7/site-packages/ipykernel_launcher.py:4: VisibleDeprecationWarning: Creating an ndarray from ragged nested sequences (which is a list-or-tuple of lists-or-tuples-or ndarrays with different lengths or shapes) is deprecated. If you meant to do this, you must specify 'dtype=object' when creating the ndarray.\n",
      "  after removing the cwd from sys.path.\n"
     ]
    }
   ],
   "source": [
    "import pandas as pd\n",
    "import numpy as np\n",
    "a=pd.read_pickle('data/adj_data/adj_mx_taxi.pkl')\n",
    "adj=np.array(a)\n",
    "# adj2=adj[2]\n",
    "adj_distance=adj[2]"
   ]
  },
  {
   "cell_type": "code",
   "execution_count": 11,
   "metadata": {},
   "outputs": [],
   "source": [
    "X_train_new=np.zeros((266,24*9,180))\n",
    "X_test_new=np.zeros((266,24*9,180))"
   ]
  },
  {
   "cell_type": "code",
   "execution_count": 12,
   "metadata": {},
   "outputs": [],
   "source": [
    "for zz in np.arange(266):\n",
    "    arr=adj_distance[zz,:]\n",
    "    vicinity_nodes=(-arr).argsort()[:9]\n",
    "#     print(vicinity_nodes)\n",
    "    for kkk in np.arange(180):\n",
    "        X_train_new[zz, :, kkk]=np.matrix.flatten(X_train[vicinity_nodes, :,kkk])\n",
    "        X_test_new[zz, :, kkk]=np.matrix.flatten(X_test[vicinity_nodes, :,kkk])\n",
    "#     X_test_new[zz, :, 0]=X_test[vicinity_nodes, :,0]"
   ]
  },
  {
   "cell_type": "code",
   "execution_count": 13,
   "metadata": {},
   "outputs": [
    {
     "name": "stdout",
     "output_type": "stream",
     "text": [
      "(266, 216, 180)\n",
      "(266, 216, 180)\n"
     ]
    }
   ],
   "source": [
    "print(X_train_new.shape)\n",
    "print(X_test_new.shape)"
   ]
  },
  {
   "cell_type": "code",
   "execution_count": 14,
   "metadata": {},
   "outputs": [
    {
     "data": {
      "text/plain": [
       "216"
      ]
     },
     "execution_count": 14,
     "metadata": {},
     "output_type": "execute_result"
    }
   ],
   "source": [
    "9*24"
   ]
  },
  {
   "cell_type": "code",
   "execution_count": 16,
   "metadata": {},
   "outputs": [],
   "source": [
    "X_train_new=torch.from_numpy(X_train_new)\n",
    "X_test_new=torch.from_numpy(X_test_new)\n",
    "torch.save(X_train_new, 'X_train_new.pt')\n",
    "torch.save(X_test_new, 'X_test_new.pt')"
   ]
  },
  {
   "cell_type": "code",
   "execution_count": null,
   "metadata": {},
   "outputs": [],
   "source": []
  }
 ],
 "metadata": {
  "kernelspec": {
   "display_name": "Python 3",
   "language": "python",
   "name": "python3"
  },
  "language_info": {
   "codemirror_mode": {
    "name": "ipython",
    "version": 3
   },
   "file_extension": ".py",
   "mimetype": "text/x-python",
   "name": "python",
   "nbconvert_exporter": "python",
   "pygments_lexer": "ipython3",
   "version": "3.7.6"
  }
 },
 "nbformat": 4,
 "nbformat_minor": 4
}
